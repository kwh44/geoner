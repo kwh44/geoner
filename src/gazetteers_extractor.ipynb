{
 "cells": [
  {
   "cell_type": "code",
   "execution_count": null,
   "id": "based-hearing",
   "metadata": {},
   "outputs": [],
   "source": [
    "import json"
   ]
  },
  {
   "cell_type": "code",
   "execution_count": null,
   "id": "handed-balance",
   "metadata": {},
   "outputs": [],
   "source": [
    "!pwd"
   ]
  },
  {
   "cell_type": "code",
   "execution_count": null,
   "id": "female-denver",
   "metadata": {},
   "outputs": [],
   "source": [
    "with open('../data/articles.json') as json_file:\n",
    "    data = json.load(json_file)"
   ]
  },
  {
   "cell_type": "code",
   "execution_count": null,
   "id": "joint-depth",
   "metadata": {},
   "outputs": [],
   "source": [
    "number = 0\n",
    "for i in data:\n",
    "    number += len(data[i][\"places_and_poi\"])\n",
    "print(number)"
   ]
  },
  {
   "cell_type": "code",
   "execution_count": null,
   "id": "independent-waste",
   "metadata": {},
   "outputs": [],
   "source": [
    "import time\n",
    "import grequests"
   ]
  },
  {
   "cell_type": "code",
   "execution_count": null,
   "id": "fitted-theme",
   "metadata": {},
   "outputs": [],
   "source": [
    "# 20'000 credits daily limit per application (identified by the parameter 'username'),\n",
    "# the hourly limit is 1000 credits. A credit is a web service request hit for most services.\n",
    "# An exception is thrown when the limit is exceeded. \n",
    "geonames = {\"exact_match\":\"http://secure.geonames.org/searchJSON?maxRows=30&username=kwh44&name_equals=\",\n",
    "            \"general_match\": \"http://secure.geonames.org/searchJSON?maxRows=30&username=kwh44&name=\"}"
   ]
  },
  {
   "cell_type": "code",
   "execution_count": null,
   "id": "young-giant",
   "metadata": {},
   "outputs": [],
   "source": [
    "# https://www.gisgraphy.com/documentation/user-guide.php#fulltextservice\n",
    "gisgraphy = \"https://services.gisgraphy.com/fulltext/fulltextsearch?&format=json&allwordsrequired=true&q=\""
   ]
  },
  {
   "cell_type": "code",
   "execution_count": null,
   "id": "simplified-board",
   "metadata": {},
   "outputs": [],
   "source": [
    "# https://github.com/dbpedia/dbpedia-lookup\n",
    "dbpedia = \"https://lookup.dbpedia.org/api/search?&typeName=place&format=JSON_FULL&maxResults=3&query=Cain%27s%20Ballroom\"\n",
    "resource_name = \"Cain's_Ballroom\"\n",
    "rdf_page_json = f\"https://dbpedia.org/data/{resource_name}.json\""
   ]
  },
  {
   "cell_type": "code",
   "execution_count": null,
   "id": "experimental-lemon",
   "metadata": {},
   "outputs": [],
   "source": [
    "# making multiple queries to gazetteer api\n",
    "urls = []\n",
    "s = time.time()\n",
    "rs = (grequests.get(u) for u in urls)\n",
    "result = grequests.map(rs)\n",
    "e = time.time()\n",
    "print(\"Lookup time: \", e - s)"
   ]
  },
  {
   "cell_type": "markdown",
   "id": "comparative-brook",
   "metadata": {},
   "source": [
    "##### query placename string and response placename string : similarity measure"
   ]
  },
  {
   "cell_type": "code",
   "execution_count": null,
   "id": "ancient-salmon",
   "metadata": {},
   "outputs": [],
   "source": [
    "import difflib\n",
    "def similar(a: str, b: str) -> float:\n",
    "    return round(difflib.SequenceMatcher(lambda x: x == \" \", a, b).ratio(), 3)"
   ]
  },
  {
   "cell_type": "code",
   "execution_count": null,
   "id": "parliamentary-livestock",
   "metadata": {},
   "outputs": [],
   "source": [
    "a = \"Hudson River Historic District\"\n",
    "b = \"Hudson River National Historic Landmark District\"\n",
    "print(similar(a, b))"
   ]
  },
  {
   "cell_type": "code",
   "execution_count": null,
   "id": "residential-evidence",
   "metadata": {},
   "outputs": [],
   "source": [
    "# article webpage preprocessing"
   ]
  },
  {
   "cell_type": "code",
   "execution_count": null,
   "id": "regulation-citizen",
   "metadata": {},
   "outputs": [],
   "source": [
    "import html2text\n",
    "import requests\n",
    "from bs4 import BeautifulSoup"
   ]
  },
  {
   "cell_type": "code",
   "execution_count": null,
   "id": "extraordinary-garage",
   "metadata": {},
   "outputs": [],
   "source": [
    "url = \"https://www.nationalgeographic.com/travel/article/geek-retreat-the-best-of-silicon-valley\""
   ]
  },
  {
   "cell_type": "code",
   "execution_count": null,
   "id": "rapid-greene",
   "metadata": {},
   "outputs": [],
   "source": [
    "def text_from_html(url): #data_folder_html_file_id):\n",
    "    \n",
    "    #road_trip = open(\"../data/\" + str(data_folder_html_file_id) + \".html\", \"r\").read()\n",
    "    road_trip = requests.get(url).text\n",
    "    soup = BeautifulSoup(road_trip)\n",
    "    links = []\n",
    "    for link in soup.findAll('a'):\n",
    "        http_link = link.get('href')\n",
    "        if \"nationalgeographic\" in http_link:\n",
    "            continue\n",
    "        if not http_link.startswith(\"http\"):\n",
    "            continue\n",
    "        if len(http_link) > 5:\n",
    "            links.append(http_link)\n",
    "    \n",
    "    text_maker = html2text.HTML2Text()\n",
    "    text_maker.ignore_links = True\n",
    "    text_maker.ignore_images = True\n",
    "    road_trip_processed = text_maker.handle(road_trip)\n",
    "    \n",
    "    start = \"ShareTweetEmail\"\n",
    "    index = road_trip_processed.find(start)\n",
    "    road_trip_processed = road_trip_processed[index + len(start) + 1:]\n",
    "    \n",
    "    end = road_trip_processed.find(\"ShareTweetEmail\")\n",
    "    road_trip_processed = road_trip_processed[:end]\n",
    "    road_trip_processed = road_trip_processed.replace(\"\\n\\n\", \". \")\n",
    "    for i in [\"\\n\", \"[\", \"]\", \"*\", \"#\", \"_\", \"\\\\'\", '\\\\']:\n",
    "        road_trip_processed = road_trip_processed.replace(i, \" \")\n",
    "    road_trip_processed = road_trip_processed.replace('>', \", \")\n",
    "    for i in range(4): # 4 seems enough\n",
    "        road_trip_processed = road_trip_processed.replace(\"  \", \" \")\n",
    "    road_trip_processed = road_trip_processed.replace(\"..\", \".\")\n",
    "               \n",
    "    return road_trip_processed.strip(), links "
   ]
  },
  {
   "cell_type": "code",
   "execution_count": null,
   "id": "awful-label",
   "metadata": {},
   "outputs": [],
   "source": [
    "text, links = text_from_html(url)"
   ]
  },
  {
   "cell_type": "code",
   "execution_count": null,
   "id": "cloudy-secretariat",
   "metadata": {},
   "outputs": [],
   "source": [
    "links"
   ]
  },
  {
   "cell_type": "code",
   "execution_count": null,
   "id": "cultural-adolescent",
   "metadata": {
    "scrolled": false
   },
   "outputs": [],
   "source": [
    "text"
   ]
  },
  {
   "cell_type": "code",
   "execution_count": null,
   "id": "known-calibration",
   "metadata": {},
   "outputs": [],
   "source": [
    "import spacy\n",
    "from spacy import displacy"
   ]
  },
  {
   "cell_type": "code",
   "execution_count": null,
   "id": "extraordinary-yesterday",
   "metadata": {},
   "outputs": [],
   "source": [
    "# UNDERSTANDING ENTITY TYPES\n",
    "{\n",
    "    \"FAC\": spacy.explain(\"FAC\"),\n",
    "    \"GPE\": spacy.explain(\"GPE\"),\n",
    "    \"LOC\": spacy.explain(\"LOC\"),\n",
    "    \"ORG\": spacy.explain(\"ORG\")\n",
    "}"
   ]
  },
  {
   "cell_type": "code",
   "execution_count": null,
   "id": "ready-washington",
   "metadata": {},
   "outputs": [],
   "source": [
    "nlp = spacy.load('en_core_web_trf')"
   ]
  },
  {
   "cell_type": "code",
   "execution_count": null,
   "id": "corporate-cancer",
   "metadata": {},
   "outputs": [],
   "source": [
    "%time displacy.render(nlp(text), style='ent', jupyter=True)"
   ]
  },
  {
   "cell_type": "code",
   "execution_count": null,
   "id": "decimal-pepper",
   "metadata": {},
   "outputs": [],
   "source": [
    "def get_ne(txt):\n",
    "    ne_types = [\"GPE\", \"FAC\", \"LOC\", \"ORG\"]\n",
    "    ne = nlp(text).ents\n",
    "    target_ne = {str(ne[i]).strip(): i for i in range(len(ne)) if ne[i].label_ in ne_types}\n",
    "    return target_ne"
   ]
  },
  {
   "cell_type": "code",
   "execution_count": null,
   "id": "continuous-withdrawal",
   "metadata": {},
   "outputs": [],
   "source": [
    "%time ne = get_ne(text)"
   ]
  },
  {
   "cell_type": "code",
   "execution_count": null,
   "id": "lesser-offset",
   "metadata": {},
   "outputs": [],
   "source": [
    "len(ne)"
   ]
  },
  {
   "cell_type": "code",
   "execution_count": null,
   "id": "multiple-paraguay",
   "metadata": {},
   "outputs": [],
   "source": [
    "# existence detection"
   ]
  },
  {
   "cell_type": "code",
   "execution_count": null,
   "id": "political-composition",
   "metadata": {},
   "outputs": [],
   "source": [
    "entities_extracted = list(ne.keys())"
   ]
  },
  {
   "cell_type": "code",
   "execution_count": null,
   "id": "round-andrew",
   "metadata": {},
   "outputs": [],
   "source": [
    "len(entities_extracted)"
   ]
  },
  {
   "cell_type": "code",
   "execution_count": null,
   "id": "asian-friendly",
   "metadata": {},
   "outputs": [],
   "source": [
    "extracted_ents_urls = [gisgraphy[\"api\"] + i + gisgraphy[\"format\"] for i in entities_extracted]"
   ]
  },
  {
   "cell_type": "code",
   "execution_count": null,
   "id": "liquid-technician",
   "metadata": {},
   "outputs": [],
   "source": [
    "extracted_ents_urls"
   ]
  },
  {
   "cell_type": "code",
   "execution_count": null,
   "id": "finished-guyana",
   "metadata": {},
   "outputs": [],
   "source": [
    "s = time.time()\n",
    "rs = [grequests.get(u) for u in extracted_ents_urls]\n",
    "result = (grequests.map(rs))\n",
    "e = time.time()"
   ]
  },
  {
   "cell_type": "code",
   "execution_count": null,
   "id": "stuffed-marks",
   "metadata": {},
   "outputs": [],
   "source": [
    "print(\"Lookup time: \", e - s)"
   ]
  }
 ],
 "metadata": {
  "kernelspec": {
   "display_name": "Python 3",
   "language": "python",
   "name": "python3"
  },
  "language_info": {
   "codemirror_mode": {
    "name": "ipython",
    "version": 3
   },
   "file_extension": ".py",
   "mimetype": "text/x-python",
   "name": "python",
   "nbconvert_exporter": "python",
   "pygments_lexer": "ipython3",
   "version": "3.8.5"
  }
 },
 "nbformat": 4,
 "nbformat_minor": 5
}
