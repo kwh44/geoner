{
 "cells": [
  {
   "cell_type": "code",
   "execution_count": 46,
   "id": "democratic-flavor",
   "metadata": {},
   "outputs": [],
   "source": [
    "import numpy as np"
   ]
  },
  {
   "cell_type": "code",
   "execution_count": null,
   "id": "fresh-flesh",
   "metadata": {},
   "outputs": [],
   "source": [
    "# page 1"
   ]
  },
  {
   "cell_type": "code",
   "execution_count": 39,
   "id": "identified-divide",
   "metadata": {},
   "outputs": [],
   "source": [
    "page1_geolocations = ['Blueberry Hill',\n",
    " 'Will Rogers State Historic Park',\n",
    " 'Oatman',\n",
    " 'Meteor Crater',\n",
    " 'Chicago',\n",
    " 'Lincoln',\n",
    " 'Big Piney River',\n",
    " 'America',\n",
    " 'Tacoma',\n",
    " 'Palo Duro Canyon State Park',\n",
    " 'Amarillo',\n",
    " 'Los Angeles',\n",
    " 'Santa Monica',\n",
    " 'Kingman',\n",
    " 'Lebanon',\n",
    " 'El Morro National Monument',\n",
    " 'Acoma',\n",
    " 'Palisades Park',\n",
    " 'St. Louis',\n",
    " 'Stroud',\n",
    " 'San Bernardino',\n",
    " 'Rialto',\n",
    " 'Pacific',\n",
    " 'Needles',\n",
    " 'Springfield',\n",
    " 'Seligman',\n",
    " 'Colorado River',\n",
    " 'Route 66',\n",
    " 'Palo Duro Canyon',\n",
    " 'Loop',\n",
    " 'Tucumcari',\n",
    " 'Chain of Rocks Bridge',\n",
    " 'Route 66 Museum',\n",
    " 'Hackberry General Store',\n",
    " 'Ozarks',\n",
    " 'Shirley',\n",
    " 'Oklahoma City',\n",
    " 'Clinton',\n",
    " 'Grants',\n",
    " 'Funks Grove',\n",
    " \"Devil's Elbow\",\n",
    " 'Tulsa',\n",
    " 'Jack Smith Park',\n",
    " 'Woody Guthrie Center',\n",
    " 'Cozy Dog Drive In',\n",
    " 'Delmar Loop',\n",
    " 'Lone Star State',\n",
    " 'Cadillac Ranch',\n",
    " 'Oklahoma Route 66 Museum',\n",
    " 'Munger Moss Motel',\n",
    " 'Blue Swallow Motel',\n",
    " 'Wigwam Motel',\n",
    " 'Rock Cafe',\n",
    " 'Oatman Hotel',\n",
    " 'Meramec Caverns',\n",
    " 'El Garces',\n",
    " 'Amtrak',\n",
    " \"Cain's Ballroom\"]"
   ]
  },
  {
   "cell_type": "code",
   "execution_count": 23,
   "id": "coupled-target",
   "metadata": {},
   "outputs": [],
   "source": [
    "page1 = {\n",
    "    \"Route 66\": 1, \n",
    "    \"Chicago\": 1,\n",
    "    \"Santa Monica\": 1,\n",
    "    \"America\": 2,   # incorrectly geocoded\n",
    "    \"Tulsa\": 1,\n",
    "    \"Cozy Dogs\": 3, # no gazetteer entry\n",
    "    \"Springfield\": 1,\n",
    "    \"Illinois\": 1,\n",
    "    \"Cozy Dog Drive In\": 1,\n",
    "    \"Funks Grove Pure Maple Sirup\": 4, # spacy failed to extract\n",
    "    \"Shirley\": 1,\n",
    "    \"Illinois Funks\": 3, # no gazetteer entry\n",
    "    \"Chain of Rocks Bridge\": 1, \n",
    "    \"Mississippi\": 2,\n",
    "    \"Missouri\": 1,\n",
    "    \"St. Louis\": 1, \n",
    "    \"Delmar Loop\": 1,\n",
    "    \"Blueberry Hill\":1,\n",
    "    \"Meramec Caverns\": 1,\n",
    "    \"Missouri\": 1,\n",
    "    \"Munger Moss Motel\": 1, \n",
    "    \"Lebanon\": 1, \n",
    "    \"Elbow Inn Bar\": 3,\n",
    "    \"Big Piney River\": 1,\n",
    "    \"Ozarks\": 1,\n",
    "    \"Tulsa\": 1,\n",
    "    \"Cain's Ballroom\": 1,\n",
    "    \"Woody Guthrie Center\": 1,\n",
    "    \"Rock Cafe\": 1,\n",
    "    \"Stroud\": 1,\n",
    "    \"Oklahoma\": 1,\n",
    "    \"Oklahoma City\": 1,\n",
    "    \"Route 66 Museum\": 1,\n",
    "    \"Clinton\": 1,\n",
    "    \"Jiggs Smokehouse\": 3,\n",
    "    \"Palo Duro Canyon State Park\": 1,\n",
    "    \"Texas\": 1,\n",
    "    \"Amarillo\": 1,\n",
    "    \"Cadillac Ranch\": 1, \n",
    "    \"Palo Duro Canyon\": 1, \n",
    "    \"Tucumcari\": 1, \n",
    "    \"New Mexico\": 1,\n",
    "    \"Blue Swallow Motel\": 1,\n",
    "    \"Odeon Theatre\": 3,\n",
    "    \"El Morro National Monument\": 1,\n",
    "    \"Acoma\": 1,\n",
    "    \"Meteor Crater\": 1,\n",
    "    \"Arizona\": 1, \n",
    "    \"Kingman\": 1,\n",
    "    \"Hackberry General Store\": 1,\n",
    "    \"Oatman\": 1,\n",
    "    \"Oatman Hotel\": 1,\n",
    "    \"Needles\": 2,        # \n",
    "    \"California\": 1,\n",
    "    \"Colorado River\": 0, # rule based failed\n",
    "    \"Jack Smith Park\": 1,\n",
    "    \"El Garces\": 1,\n",
    "    \"Wigwam Motel\": 23, # no gazetteer entry in the region mentioned\n",
    "    \"Rialto\": 1,\n",
    "    \"San Bernardino\": 1,\n",
    "    \"Will Rogers State Historic Park\": 1,\n",
    "    \"Los Angeles\": 1,\n",
    "    \"Santa Monica\": 1,\n",
    "    \"Palisades Park\": 7    \n",
    "}"
   ]
  },
  {
   "cell_type": "code",
   "execution_count": 56,
   "id": "attempted-annotation",
   "metadata": {},
   "outputs": [
    {
     "data": {
      "text/plain": [
       "(array([ 0,  1,  2,  3,  4,  7, 23]), array([ 1, 49,  3,  5,  1,  1,  1]))"
      ]
     },
     "execution_count": 56,
     "metadata": {},
     "output_type": "execute_result"
    }
   ],
   "source": [
    "np.unique(np.array(list(page1.values())), return_counts=True)"
   ]
  },
  {
   "cell_type": "code",
   "execution_count": 24,
   "id": "ancient-stable",
   "metadata": {},
   "outputs": [
    {
     "data": {
      "text/plain": [
       "0.8032786885245902"
      ]
     },
     "execution_count": 24,
     "metadata": {},
     "output_type": "execute_result"
    }
   ],
   "source": [
    "sum([1 for i in page1.values() if i == 1]) / len(page1.values())"
   ]
  },
  {
   "cell_type": "code",
   "execution_count": 40,
   "id": "straight-scale",
   "metadata": {},
   "outputs": [],
   "source": [
    "page2_geolocations = ['Santa Ynez',\n",
    " 'Santa Barbara',\n",
    " 'Southern California',\n",
    " 'Orange County',\n",
    " 'Long Beach',\n",
    " 'Crystal Cove State Park',\n",
    " 'Pismo',\n",
    " 'Los Trancos Creek',\n",
    " 'Huntington Beach',\n",
    " 'Newport Beach',\n",
    " 'Pismo Beach',\n",
    " 'Long Beach Convention and Entertainment Center',\n",
    " 'Pacific',\n",
    " 'Harbor House Inn',\n",
    " 'Ripley',\n",
    " 'Avila Beach',\n",
    " 'Mendenhall',\n",
    " 'El Paseo',\n",
    " 'Arroyo Grande',\n",
    " 'Hearst Castle',\n",
    " 'Trout Creek Trail',\n",
    " 'Lompoc',\n",
    " 'State Street',\n",
    " 'Buellton',\n",
    " 'Aquarium of the Pacific',\n",
    " 'Vandenberg Air Force Base',\n",
    " 'Pea Soup Andersen',\n",
    " 'Edna Valley',\n",
    " 'Dunes Center',\n",
    " 'Huntington Pier',\n",
    " 'La Purisima Mission',\n",
    " 'Guadalupe-Nipomo Dunes',\n",
    " 'SoCal',\n",
    " 'International Surfing Museum']"
   ]
  },
  {
   "cell_type": "code",
   "execution_count": 34,
   "id": "tribal-despite",
   "metadata": {},
   "outputs": [],
   "source": [
    "page2 = {\n",
    "    \"Southern California\": 1, \n",
    "    \"Pismo Beach\": 1,\n",
    "    \"Pismo\": 1,\n",
    "    \"Guadalupe-Nipomo Dunes\": 1,\n",
    "    \"Dunes Center\": 1,\n",
    "    \"Guadalupe\": 3,\n",
    "    \"Avila Beach\": 1,\n",
    "    \"Trout Creek Trail\": 1, # google doesn't know this place, :=))\n",
    "    \"Arroyo Grande\": 1,\n",
    "    \"Edna Valley\": 1, # google doens't know this place\n",
    "    \"Vandenberg Air Force Base\": 1, \n",
    "    \"Lompoc\": 1, \n",
    "    \"La Purisima Mission\": 1,\n",
    "    \"California\": 1, \n",
    "    \"Buellton\": 1,\n",
    "    \"Pea Soup Andersen\": 1,\n",
    "    \"Hearst Castle\": 1,\n",
    "    \"Mendenhall’s Museum of Gas Pumps and Petroliana\": 4, # spacy\n",
    "    \"OstrichLand USA\": 3,\n",
    "    \"Santa Ynez\": 1,\n",
    "    \"Santa Barbara\": 1,\n",
    "    \"State Street\": 1,\n",
    "    \"El Paseo\": 1,\n",
    "    \"Harbor House Inn\": 1, \n",
    "    \"Huntington Beach\": 1,\n",
    "    \"Huntington Pier\": 1,\n",
    "    \"International Surfing Museum\": 1,\n",
    "    \"Aquarium of the Pacific\": 1,\n",
    "    \"Long Beach\": 1,\n",
    "    \"Long Beach Convention and Entertainment Center\": 1,\n",
    "    \"Crystal Cove State Park\": 1,\n",
    "    \"Orange County\": 1,\n",
    "    \"Crystal Cove Beach Cottages\": 3,\n",
    "    \"Los Trancos Creek\": 1\n",
    "}"
   ]
  },
  {
   "cell_type": "code",
   "execution_count": 55,
   "id": "recorded-behavior",
   "metadata": {},
   "outputs": [
    {
     "data": {
      "text/plain": [
       "(array([1, 3, 4]), array([30,  3,  1]))"
      ]
     },
     "execution_count": 55,
     "metadata": {},
     "output_type": "execute_result"
    }
   ],
   "source": [
    "np.unique(np.array(list(page2.values())), return_counts=True)"
   ]
  },
  {
   "cell_type": "code",
   "execution_count": 35,
   "id": "extra-discretion",
   "metadata": {},
   "outputs": [
    {
     "data": {
      "text/plain": [
       "0.8823529411764706"
      ]
     },
     "execution_count": 35,
     "metadata": {},
     "output_type": "execute_result"
    }
   ],
   "source": [
    "sum([1 for i in page2.values() if i == 1]) / len(page2.values())"
   ]
  },
  {
   "cell_type": "code",
   "execution_count": 41,
   "id": "obvious-short",
   "metadata": {},
   "outputs": [],
   "source": [
    "page3_geolocations = Tunnel LogTunnel LogTunnel LogTunnel LogTunnel Log['Crescent Rock',\n",
    " 'Piedmont',\n",
    " 'Baymont Inn & Suites',\n",
    " 'Big Meadows Lodge',\n",
    " 'Charlies Bunion',\n",
    " 'Clingmans Dome',\n",
    " 'Gateway Airport',\n",
    " 'Great Smoky Mountains National Park',\n",
    " 'Mammoth Cave',\n",
    " 'Gatlinburg',\n",
    " 'Calvary Rocks',\n",
    " 'Hawksbill Mountain',\n",
    " 'LeConte Lodge',\n",
    " 'Green River',\n",
    " 'Smoky Mountains',\n",
    " 'Rapidan Camp',\n",
    " 'George Washington Memorial Parkway',\n",
    " 'Cave City',\n",
    " 'Skyline Drive',\n",
    " 'Shenandoah Valley',\n",
    " 'Shenandoah River',\n",
    " 'Great Smoky Mountains',\n",
    " 'Cades Cove',\n",
    " 'Mount Le Conte',\n",
    " 'Blue Ridge Parkway',\n",
    " 'Grotto Falls',\n",
    " 'Chimney Tops',\n",
    " 'Skyland',\n",
    " 'Deep Creek Trail',\n",
    " 'Catoosa Wildlife Management Area',\n",
    " 'Union',\n",
    " 'Compton Peak',\n",
    " 'Arlington',\n",
    " 'Shenandoah National Park',\n",
    " 'Skyland Resort',\n",
    " 'Ronald Reagan Washington National Airport',\n",
    " 'Cataloochee',\n",
    " 'Shenandoah',\n",
    " 'Mammoth Cave National Park',\n",
    " 'Newfound Gap',\n",
    " 'Manassas National Battlefield Park',\n",
    " 'Cedar Sink',\n",
    " 'Buckhorn Inn',\n",
    " 'Trillium Gap Trail',\n",
    " 'Frozen Niagara',\n",
    " 'I-64W',\n",
    " 'Pollock Dining Room',\n",
    " 'Indian Creek Falls',\n",
    " 'Blackrock Summit',\n",
    " 'Tuscarora-Overall Run Trail',\n",
    " 'Cataloochee Valley',\n",
    " 'Cades Cove Campground Store',\n",
    " 'Mammoth Cave Hotel',\n",
    " 'Crystal Lake Café',\n",
    " 'Appalachian Trail']"
   ]
  },
  {
   "cell_type": "code",
   "execution_count": 37,
   "id": "polished-unknown",
   "metadata": {},
   "outputs": [],
   "source": [
    "page3 = {\n",
    "    \"Ronald Reagan Washington National Airport\": 1,\n",
    "    \"Arlington\": 1,\n",
    "    \"Virginia\": 1,\n",
    "    \"Shenandoah\": 2,\n",
    "    \"Great Smoky Mountains\": 1,\n",
    "    \"Mammoth Cave\": 1,\n",
    "    \"Shenandoah National Park\": 1,\n",
    "    \"Skyline Drive\": 1,\n",
    "    \"Shenandoah National Park\": 1,\n",
    "    \"Piedmont\": 1,\n",
    "    \"Shenandoah Valley\": 1,\n",
    "    \"George Washington Memorial Parkway\": 1,\n",
    "    \"Manassas National Battlefield Park\": 1,\n",
    "    \"Skyland Resort\": 1,\n",
    "    \"Shenandoah River\": 1,\n",
    "    \"Shenandoah Valley\": 1,\n",
    "    \"Pollock Dining Room\": 1,\n",
    "    \"Big Meadows Lodge\": 1,\n",
    "    \"Spottswood Dining Room\": 3,\n",
    "    \"Crescent Rock\": 1,\n",
    "    \"Hawksbill Mountain\": 2,\n",
    "    \"Rapidan Camp\": 1,\n",
    "    \"Blackrock Summit\": 1,\n",
    "    \"Compton Peak\": 1,\n",
    "    \"Overall Run Falls\": 3,\n",
    "    \"Calvary Rocks\": 1,\n",
    "    \"Great Smoky Mountains National Park\": 1,\n",
    "    \"Smoky Mountains\": 1,\n",
    "    \"Blue Ridge Parkway\": 1,\n",
    "    \"LeConte Lodge\": 1,\n",
    "    \"Buckhorn Inn\": 3,\n",
    "    \"Baymont Inn & Suites\": 3,\n",
    "    \"Cades Cove Campground Store\": 1,\n",
    "    \"Cades Cove\": 1,\n",
    "    \"Clingmans Dome\": 1,\n",
    "    \"Grotto Falls\": 1,\n",
    "    \"Deep Creek Trail\": 1,\n",
    "    \"Newfound Gap\": 1,\n",
    "    \"Charlies Bunion\": 1,\n",
    "    \"Chimney Tops\": 1,\n",
    "    \"Mount Le Conte\": 1,\n",
    "    \"Cataloochee Valley\": 1,\n",
    "    \"Mammoth Cave National Park\": 1,\n",
    "    \"Catoosa Wildlife Management Area\": 1,\n",
    "    \"Mammoth Cave Hotel\": 1,\n",
    "    \"Crystal Lake Café\": 3,\n",
    "    \"Watermill Restaurant\": 3,\n",
    "    \"Green River\": 1,\n",
    "    \"Cedar Sink\": 1,\n",
    "    \"Frozen Niagara\": 1\n",
    "}"
   ]
  },
  {
   "cell_type": "code",
   "execution_count": 54,
   "id": "brazilian-threat",
   "metadata": {},
   "outputs": [
    {
     "data": {
      "text/plain": [
       "(array([1, 2, 3]), array([40,  2,  6]))"
      ]
     },
     "execution_count": 54,
     "metadata": {},
     "output_type": "execute_result"
    }
   ],
   "source": [
    "np.unique(np.array(list(page3.values())), return_counts=True)"
   ]
  },
  {
   "cell_type": "code",
   "execution_count": 42,
   "id": "informational-falls",
   "metadata": {},
   "outputs": [
    {
     "data": {
      "text/plain": [
       "0.8333333333333334"
      ]
     },
     "execution_count": 42,
     "metadata": {},
     "output_type": "execute_result"
    }
   ],
   "source": [
    "sum([1 for i in page3.values() if i == 1]) / len(page3.values())"
   ]
  },
  {
   "cell_type": "code",
   "execution_count": 43,
   "id": "surface-benefit",
   "metadata": {},
   "outputs": [],
   "source": [
    "page4_geolocations = ['Kings Canyon Scenic Byway',\n",
    " 'Wawona',\n",
    " 'Yosemite',\n",
    " 'Furnace Creek',\n",
    " 'Kings River',\n",
    " 'Scotty’s Castle',\n",
    " 'Glacier Point',\n",
    " 'Vernal',\n",
    " 'Kings Canyon National Park',\n",
    " 'Sequoia Park',\n",
    " 'Sierra',\n",
    " 'Taft Point',\n",
    " 'Stovepipe Wells',\n",
    " 'General Grant Tree',\n",
    " 'Yosemite National Park',\n",
    " 'Furnace Creek Ranch',\n",
    " 'Grizzly Giant',\n",
    " 'Death Valley National Park',\n",
    " 'Badwater',\n",
    " 'Death Valley',\n",
    " 'Lower Yosemite Fall',\n",
    " 'Badger Pass',\n",
    " 'Las Vegas',\n",
    " 'Ubehebe Crater',\n",
    " 'Dante’s View',\n",
    " 'Half Dome',\n",
    " 'Hume Lake',\n",
    " 'Manzanar National Historic Site',\n",
    " 'Alabama Hills',\n",
    " 'Mariposa Grove',\n",
    " 'Lodgepole',\n",
    " 'Olmsted Point',\n",
    " 'Wildrose Peak',\n",
    " 'Vernal Fall',\n",
    " 'Furnace Creek Inn',\n",
    " 'Mirror Lake',\n",
    " 'Ash Mountain',\n",
    " 'Sentinel Dome',\n",
    " 'General Sherman Tree',\n",
    " 'Merced River',\n",
    " 'Yosemite Valley',\n",
    " 'El Capitan',\n",
    " 'Coarsegold',\n",
    " 'Crystal Cave',\n",
    " 'Lone Pine',\n",
    " 'Mist Trail',\n",
    " 'Sequoia',\n",
    " 'Zabriskie Point',\n",
    " 'Yosemite Falls',\n",
    " 'Tunnel Log',\n",
    " 'Death Valley Junction',\n",
    " 'Mono Lake',\n",
    " 'Mount Whitney',\n",
    " 'Nevada Falls',\n",
    " 'Moro Rock',\n",
    " 'Sierra Nevada',\n",
    " 'Kings Canyon',\n",
    " 'Swinging Bridge',\n",
    " 'Giant Forest',\n",
    " 'Golden Canyon',\n",
    " 'Glacier Point Road',\n",
    " 'Artists Drive',\n",
    " 'The Ahwahnee Hotel',\n",
    " 'Wildrose Charcoal Kilns',\n",
    " 'Grants Grove',\n",
    " 'Underground Tour',\n",
    " 'Wuksachi Lodge',\n",
    " 'McCarran International',\n",
    " 'Furnace Creek Resort',\n",
    " 'Tioga Pass Road',\n",
    " 'Peaks Restaurant',\n",
    " 'North Grove Loop',\n",
    " 'Crescent Meadow Road']"
   ]
  },
  {
   "cell_type": "code",
   "execution_count": 44,
   "id": "intelligent-cement",
   "metadata": {},
   "outputs": [],
   "source": [
    "page4 = {\n",
    "    \"McCarran International\": 1,\n",
    "    \"Las Vegas\": 1,\n",
    "    \"Nevada\": 1,\n",
    "    \"California\": 1,\n",
    "    \"Sierra Nevada\": 1,\n",
    "    \"Death Valley\": 7,\n",
    "    \"Mount Whitney\": 1,\n",
    "    \"Sequoia\": 2,\n",
    "    \"Yosemite Falls\": 1,\n",
    "    \"Yosemite\": 1,\n",
    "    \"Death Valley National Park\": 1,\n",
    "    \"Death Valley Junction\": 1,\n",
    "    \"Amargosa Opera House and Hotel\": 3,\n",
    "    \"Furnace Creek Resort\": 1,\n",
    "    \"Furnace Creek Inn\": 1,\n",
    "    \"Badwater\": 1,\n",
    "    \"Scotty’s Castle\": 1,\n",
    "    \"Stovepipe Wells\": 1, \n",
    "    \"Zabriskie Point\": 1,\n",
    "    \"Furnace Creek\": 1,\n",
    "    \"Golden Canyon\": 2, # several results in one region, \n",
    "    \"Red Cathedral\": 3, # hiking area\n",
    "    \"Wildrose Charcoal Kilns\": 1,\n",
    "    \"Wildrose Peak\": 1,\n",
    "    \"Ubehebe Crater\": 1,\n",
    "    \"Yosemite National Park\": 1,\n",
    "    \"Merced River\": 1,\n",
    "    \"Alabama Hills\": 1,\n",
    "    \"Lone Pine\": 1,\n",
    "    \"Manzanar National Historic Site\": 1,\n",
    "    \"Mono Lake\": 1,\n",
    "    \"Ahwahnee Hotel\": 4,\n",
    "    \"Lower Yosemite Fall\": 1,\n",
    "    \"Yosemite Valley\": 1,\n",
    "    \"Half Dome\": 1,\n",
    "    \"Olmsted Point\": 1,\n",
    "    \"Mirror Lake\": 3,\n",
    "    \"Mariposa Grove\": 1,\n",
    "    \"Wawona\": 1,\n",
    "    \"Grizzly Giant\": 1,\n",
    "    \"Glacier Point\": 1,\n",
    "    \"Taft Point\": 1,\n",
    "    \"Sentinel Dome\": 1,\n",
    "    \"General Sherman Tree\": 1,\n",
    "    \"Coarsegold\": 1,\n",
    "    \"Wuksachi Lodge\": 1,\n",
    "    \"Wolverton Meadow\": 2, # used different name than in gazetteer, str similarity failed\n",
    "    \"Giant Forest\": 1,\n",
    "    \"Crystal Cave\": 1,\n",
    "    \"Congress Trail\": 4,\n",
    "    \"Kings Canyon\": 1,\n",
    "    \"North Grove Loop\": 3,\n",
    "    \"General Grant Tree\": 1,\n",
    "    \"Kings Canyon Scenic Byway\": 1, \n",
    "    \"Hume Lake\": 1,\n",
    "    \"Kings River\": 1,\n",
    "    \"Moro Rock\": 1,\n",
    "    \"Ash Mountain\": 3,\n",
    "    \"Tunnel Log\": 1,\n",
    "    \"Crescent Meadow Road\": 1\n",
    "}"
   ]
  },
  {
   "cell_type": "code",
   "execution_count": 53,
   "id": "gothic-incident",
   "metadata": {},
   "outputs": [
    {
     "data": {
      "text/plain": [
       "(array([1, 2, 3, 4, 7]), array([49,  3,  5,  2,  1]))"
      ]
     },
     "execution_count": 53,
     "metadata": {},
     "output_type": "execute_result"
    }
   ],
   "source": [
    "np.unique(np.array(list(page4.values())), return_counts=True)"
   ]
  },
  {
   "cell_type": "code",
   "execution_count": 45,
   "id": "instrumental-constraint",
   "metadata": {},
   "outputs": [
    {
     "data": {
      "text/plain": [
       "0.8166666666666667"
      ]
     },
     "execution_count": 45,
     "metadata": {},
     "output_type": "execute_result"
    }
   ],
   "source": [
    "sum([1 for i in page4.values() if i == 1]) / len(page4.values())"
   ]
  },
  {
   "cell_type": "code",
   "execution_count": 57,
   "id": "hairy-questionnaire",
   "metadata": {},
   "outputs": [],
   "source": [
    "page5_geolocations = ['Westcliffe',\n",
    " 'Zapata Ranch',\n",
    " 'Paonia',\n",
    " 'Valley View Hot Springs',\n",
    " 'Grand Junction',\n",
    " 'La Veta',\n",
    " 'Zapata Falls',\n",
    " 'Florence',\n",
    " 'North Fork Valley',\n",
    " 'Black Canyon',\n",
    " 'Baca National Wildlife Refuge',\n",
    " 'Gunnison River',\n",
    " 'South Rim',\n",
    " 'Lizard',\n",
    " 'Ragged Mountains',\n",
    " 'Colorado Springs',\n",
    " 'Moab',\n",
    " 'Milky Way',\n",
    " 'Spanish Peaks',\n",
    " 'Paonia Reservoir',\n",
    " 'San Luis Valley',\n",
    " 'Wild West',\n",
    " 'Great Sand Dunes National Park',\n",
    " 'Crestone',\n",
    " 'Colorado National Monument',\n",
    " 'Midwest',\n",
    " 'Bluff Park',\n",
    " 'Willow Lake',\n",
    " 'Silver Cliff',\n",
    " 'Saddlehorn Campground',\n",
    " 'Book Cliffs View',\n",
    " 'South Rim Campground',\n",
    " 'Piñon Flats',\n",
    " 'Great Sand Dunes',\n",
    " 'The Crestone Peaks',\n",
    " 'Paint Mines Interpretive Park',\n",
    " 'Ziggurat',\n",
    " 'Ryus Avenue Bakery',\n",
    " 'Southwest Colorado',\n",
    " 'Colorado FIVE',\n",
    " 'Paonia State Park',\n",
    " 'Black Canyon of',\n",
    " 'Bross Hotel',\n",
    " 'Smokey Jack Observatory',\n",
    " 'American Viticulture Area',\n",
    " 'Gunnison National Park']"
   ]
  },
  {
   "cell_type": "markdown",
   "id": "published-volunteer",
   "metadata": {},
   "source": [
    "* 1 # extracted and correctly geocoded\n",
    "* 2 # incorrectly geocoded\n",
    "* 3 # no gazetteer entry\n",
    "* 4 # spacy failed to extract\n",
    "* 5 # not relevant point filtered out\n",
    "* 6 # dbpedia timeout\n",
    "* 7 # duplicate gazetteer entry with different coordinates"
   ]
  },
  {
   "cell_type": "code",
   "execution_count": 58,
   "id": "widespread-bench",
   "metadata": {},
   "outputs": [],
   "source": [
    "page5 = {\n",
    "    \"Colorado\": 1,\n",
    "    \"Paint Mines Interpretive Park\": 1,\n",
    "    \"Colorado Springs\": 1,\n",
    "    \"Westcliffe\": 1,\n",
    "    \"Florence\": 1,\n",
    "    \"Turmeric Indian & Nepalese Restaurant\": 3,\n",
    "    \"Silver Cliff\": 1,\n",
    "    \"Smokey Jack Observatory\": 1,\n",
    "    \"La Veta\": 1,\n",
    "    \"Spanish Peaks\": 1,\n",
    "    \"Wahatoya State Wildlife Area\": 3,\n",
    "    \"Ryus Avenue Bakery\": 1,\n",
    "    \"Great Sand Dunes National Park\": 1,\n",
    "    \"Great Sand Dunes\": 2,\n",
    "    \"Piñon Flats\": 3,\n",
    "    \"Zapata Ranch\": 1,\n",
    "    \"Zapata Falls\": 1,\n",
    "    \"The Crestone Peaks\": 1,\n",
    "    \"Crestone\": 1,\n",
    "    \"Crestone Ziggurat\": 3, \n",
    "    \"San Luis Valley\": 1,\n",
    "    \"Valley View Hot Springs\": 1,\n",
    "    \"Crestone Brewing Company\": 3,\n",
    "    \"Baca National Wildlife Refuge\": 1,\n",
    "    \"Willow Lake\": 3,\n",
    "    \"Black Canyon of the Gunnison National Park\": 4,\n",
    "    \"Gunnison River\": 1,\n",
    "    \"Paonia\": 1,\n",
    "    \"North Fork Valley\": 3,\n",
    "    \"Bross Hotel\": 1,\n",
    "    \"Paonia State Park\": 1,\n",
    "    \"Ragged Mountains\": 3, \n",
    "    \"Paonia Reservoir\": 1,\n",
    "    \"Colorado National Monument\": 1,\n",
    "    \"Bin 707\": 2, # might be that unify lookup results missed it place on some exception\n",
    "    \"Wedding Canyons\": 3,\n",
    "    \"Book Cliffs View\": 1,\n",
    "    \"Saddlehorn Campground\": 1\n",
    "}"
   ]
  },
  {
   "cell_type": "code",
   "execution_count": 59,
   "id": "approved-ground",
   "metadata": {},
   "outputs": [
    {
     "data": {
      "text/plain": [
       "0.6842105263157895"
      ]
     },
     "execution_count": 59,
     "metadata": {},
     "output_type": "execute_result"
    }
   ],
   "source": [
    "sum([1 for i in page5.values() if i == 1]) / len(page5.values())"
   ]
  },
  {
   "cell_type": "code",
   "execution_count": null,
   "id": "leading-flexibility",
   "metadata": {},
   "outputs": [],
   "source": []
  },
  {
   "cell_type": "code",
   "execution_count": null,
   "id": "distinguished-abuse",
   "metadata": {},
   "outputs": [],
   "source": []
  },
  {
   "cell_type": "code",
   "execution_count": null,
   "id": "settled-registrar",
   "metadata": {},
   "outputs": [],
   "source": []
  },
  {
   "cell_type": "code",
   "execution_count": null,
   "id": "representative-attention",
   "metadata": {},
   "outputs": [],
   "source": []
  },
  {
   "cell_type": "code",
   "execution_count": null,
   "id": "framed-stroke",
   "metadata": {},
   "outputs": [],
   "source": []
  },
  {
   "cell_type": "code",
   "execution_count": null,
   "id": "expired-amount",
   "metadata": {},
   "outputs": [],
   "source": []
  },
  {
   "cell_type": "code",
   "execution_count": null,
   "id": "surrounded-sound",
   "metadata": {},
   "outputs": [],
   "source": []
  },
  {
   "cell_type": "code",
   "execution_count": null,
   "id": "starting-duplicate",
   "metadata": {},
   "outputs": [],
   "source": []
  }
 ],
 "metadata": {
  "kernelspec": {
   "display_name": "Python 3",
   "language": "python",
   "name": "python3"
  },
  "language_info": {
   "codemirror_mode": {
    "name": "ipython",
    "version": 3
   },
   "file_extension": ".py",
   "mimetype": "text/x-python",
   "name": "python",
   "nbconvert_exporter": "python",
   "pygments_lexer": "ipython3",
   "version": "3.8.5"
  }
 },
 "nbformat": 4,
 "nbformat_minor": 5
}
