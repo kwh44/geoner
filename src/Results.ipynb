{
 "cells": [
  {
   "cell_type": "code",
   "execution_count": 1,
   "id": "oriented-house",
   "metadata": {},
   "outputs": [],
   "source": [
    "import numpy as np"
   ]
  },
  {
   "cell_type": "code",
   "execution_count": 2,
   "id": "southern-syracuse",
   "metadata": {},
   "outputs": [],
   "source": [
    "# page 1"
   ]
  },
  {
   "cell_type": "markdown",
   "id": "blond-brighton",
   "metadata": {},
   "source": [
    "* 1 # extracted and correctly geocoded\n",
    "* 2 # incorrectly geocoded\n",
    "* 3 # no gazetteer entry\n",
    "* 4 # spacy failed to extract\n",
    "* 5 # not relevant point filtered out\n",
    "* 6 # dbpedia timeout\n",
    "* 7 # duplicate gazetteer entry with different coordinates"
   ]
  },
  {
   "cell_type": "code",
   "execution_count": 3,
   "id": "severe-vulnerability",
   "metadata": {},
   "outputs": [],
   "source": [
    "page1_geolocations = ['Blueberry Hill',\n",
    " 'Will Rogers State Historic Park',\n",
    " 'Oatman',\n",
    " 'Meteor Crater',\n",
    " 'Chicago',\n",
    " 'Lincoln',\n",
    " 'Big Piney River',\n",
    " 'America',\n",
    " 'Tacoma',\n",
    " 'Palo Duro Canyon State Park',\n",
    " 'Amarillo',\n",
    " 'Los Angeles',\n",
    " 'Santa Monica',\n",
    " 'Kingman',\n",
    " 'Lebanon',\n",
    " 'El Morro National Monument',\n",
    " 'Acoma',\n",
    " 'Palisades Park',\n",
    " 'St. Louis',\n",
    " 'Stroud',\n",
    " 'San Bernardino',\n",
    " 'Rialto',\n",
    " 'Pacific',\n",
    " 'Needles',\n",
    " 'Springfield',\n",
    " 'Seligman',\n",
    " 'Colorado River',\n",
    " 'Route 66',\n",
    " 'Palo Duro Canyon',\n",
    " 'Loop',\n",
    " 'Tucumcari',\n",
    " 'Chain of Rocks Bridge',\n",
    " 'Route 66 Museum',\n",
    " 'Hackberry General Store',\n",
    " 'Ozarks',\n",
    " 'Shirley',\n",
    " 'Oklahoma City',\n",
    " 'Clinton',\n",
    " 'Grants',\n",
    " 'Funks Grove',\n",
    " \"Devil's Elbow\",\n",
    " 'Tulsa',\n",
    " 'Jack Smith Park',\n",
    " 'Woody Guthrie Center',\n",
    " 'Cozy Dog Drive In',\n",
    " 'Delmar Loop',\n",
    " 'Lone Star State',\n",
    " 'Cadillac Ranch',\n",
    " 'Oklahoma Route 66 Museum',\n",
    " 'Munger Moss Motel',\n",
    " 'Blue Swallow Motel',\n",
    " 'Wigwam Motel',\n",
    " 'Rock Cafe',\n",
    " 'Oatman Hotel',\n",
    " 'Meramec Caverns',\n",
    " 'El Garces',\n",
    " 'Amtrak',\n",
    " \"Cain's Ballroom\"]"
   ]
  },
  {
   "cell_type": "code",
   "execution_count": 4,
   "id": "german-pregnancy",
   "metadata": {},
   "outputs": [],
   "source": [
    "page1 = {\n",
    "    \"Route 66\": 1, \n",
    "    \"Chicago\": 1,\n",
    "    \"Santa Monica\": 1,\n",
    "    \"America\": 2,   # incorrectly geocoded\n",
    "    \"Tulsa\": 1,\n",
    "    \"Cozy Dogs\": 3, # no gazetteer entry\n",
    "    \"Springfield\": 1,\n",
    "    \"Illinois\": 1,\n",
    "    \"Cozy Dog Drive In\": 1,\n",
    "    \"Funks Grove Pure Maple Sirup\": 4, # spacy failed to extract\n",
    "    \"Shirley\": 1,\n",
    "    \"Illinois Funks\": 3, # no gazetteer entry\n",
    "    \"Chain of Rocks Bridge\": 1, \n",
    "    \"Mississippi\": 2,\n",
    "    \"Missouri\": 1,\n",
    "    \"St. Louis\": 1, \n",
    "    \"Delmar Loop\": 1,\n",
    "    \"Blueberry Hill\":1,\n",
    "    \"Meramec Caverns\": 1,\n",
    "    \"Missouri\": 1,\n",
    "    \"Munger Moss Motel\": 1, \n",
    "    \"Lebanon\": 1, \n",
    "    \"Elbow Inn Bar\": 3,\n",
    "    \"Big Piney River\": 1,\n",
    "    \"Ozarks\": 1,\n",
    "    \"Tulsa\": 1,\n",
    "    \"Cain's Ballroom\": 1,\n",
    "    \"Woody Guthrie Center\": 1,\n",
    "    \"Rock Cafe\": 1,\n",
    "    \"Stroud\": 1,\n",
    "    \"Oklahoma\": 1,\n",
    "    \"Oklahoma City\": 1,\n",
    "    \"Route 66 Museum\": 1,\n",
    "    \"Clinton\": 1,\n",
    "    \"Jiggs Smokehouse\": 3,\n",
    "    \"Palo Duro Canyon State Park\": 1,\n",
    "    \"Texas\": 1,\n",
    "    \"Amarillo\": 1,\n",
    "    \"Cadillac Ranch\": 1, \n",
    "    \"Palo Duro Canyon\": 1, \n",
    "    \"Tucumcari\": 1, \n",
    "    \"New Mexico\": 1,\n",
    "    \"Blue Swallow Motel\": 1,\n",
    "    \"Odeon Theatre\": 3,\n",
    "    \"El Morro National Monument\": 1,\n",
    "    \"Acoma\": 1,\n",
    "    \"Meteor Crater\": 1,\n",
    "    \"Arizona\": 1, \n",
    "    \"Kingman\": 1,\n",
    "    \"Hackberry General Store\": 1,\n",
    "    \"Oatman\": 1,\n",
    "    \"Oatman Hotel\": 1,\n",
    "    \"Needles\": 2,        # \n",
    "    \"California\": 1,\n",
    "    \"Colorado River\": 0, # rule based failed\n",
    "    \"Jack Smith Park\": 1,\n",
    "    \"El Garces\": 1,\n",
    "    \"Wigwam Motel\": 23, # no gazetteer entry in the region mentioned\n",
    "    \"Rialto\": 1,\n",
    "    \"San Bernardino\": 1,\n",
    "    \"Will Rogers State Historic Park\": 1,\n",
    "    \"Los Angeles\": 1,\n",
    "    \"Santa Monica\": 1,\n",
    "    \"Palisades Park\": 7    \n",
    "}"
   ]
  },
  {
   "cell_type": "code",
   "execution_count": 5,
   "id": "offensive-strand",
   "metadata": {},
   "outputs": [
    {
     "data": {
      "text/plain": [
       "(array([ 0,  1,  2,  3,  4,  7, 23]), array([ 1, 49,  3,  5,  1,  1,  1]))"
      ]
     },
     "execution_count": 5,
     "metadata": {},
     "output_type": "execute_result"
    }
   ],
   "source": [
    "np.unique(np.array(list(page1.values())), return_counts=True)"
   ]
  },
  {
   "cell_type": "code",
   "execution_count": 6,
   "id": "recreational-cowboy",
   "metadata": {},
   "outputs": [
    {
     "data": {
      "text/plain": [
       "0.8032786885245902"
      ]
     },
     "execution_count": 6,
     "metadata": {},
     "output_type": "execute_result"
    }
   ],
   "source": [
    "sum([1 for i in page1.values() if i == 1]) / len(page1.values())"
   ]
  },
  {
   "cell_type": "code",
   "execution_count": 45,
   "id": "indonesian-transmission",
   "metadata": {},
   "outputs": [
    {
     "data": {
      "text/plain": [
       "0.08196721311475409"
      ]
     },
     "execution_count": 45,
     "metadata": {},
     "output_type": "execute_result"
    }
   ],
   "source": [
    "sum([1 for i in page1.values() if i == 3]) / len(page1.values())"
   ]
  },
  {
   "cell_type": "code",
   "execution_count": 7,
   "id": "frozen-bunny",
   "metadata": {},
   "outputs": [],
   "source": [
    "page2_geolocations = ['Santa Ynez',\n",
    " 'Santa Barbara',\n",
    " 'Southern California',\n",
    " 'Orange County',\n",
    " 'Long Beach',\n",
    " 'Crystal Cove State Park',\n",
    " 'Pismo',\n",
    " 'Los Trancos Creek',\n",
    " 'Huntington Beach',\n",
    " 'Newport Beach',\n",
    " 'Pismo Beach',\n",
    " 'Long Beach Convention and Entertainment Center',\n",
    " 'Pacific',\n",
    " 'Harbor House Inn',\n",
    " 'Ripley',\n",
    " 'Avila Beach',\n",
    " 'Mendenhall',\n",
    " 'El Paseo',\n",
    " 'Arroyo Grande',\n",
    " 'Hearst Castle',\n",
    " 'Trout Creek Trail',\n",
    " 'Lompoc',\n",
    " 'State Street',\n",
    " 'Buellton',\n",
    " 'Aquarium of the Pacific',\n",
    " 'Vandenberg Air Force Base',\n",
    " 'Pea Soup Andersen',\n",
    " 'Edna Valley',\n",
    " 'Dunes Center',\n",
    " 'Huntington Pier',\n",
    " 'La Purisima Mission',\n",
    " 'Guadalupe-Nipomo Dunes',\n",
    " 'SoCal',\n",
    " 'International Surfing Museum']"
   ]
  },
  {
   "cell_type": "code",
   "execution_count": 8,
   "id": "incorporate-respect",
   "metadata": {},
   "outputs": [],
   "source": [
    "page2 = {\n",
    "    \"Southern California\": 1, \n",
    "    \"Pismo Beach\": 1,\n",
    "    \"Pismo\": 1,\n",
    "    \"Guadalupe-Nipomo Dunes\": 1,\n",
    "    \"Dunes Center\": 1,\n",
    "    \"Guadalupe\": 3,\n",
    "    \"Avila Beach\": 1,\n",
    "    \"Trout Creek Trail\": 1, # google doesn't know this place, :=))\n",
    "    \"Arroyo Grande\": 1,\n",
    "    \"Edna Valley\": 1, # google doens't know this place\n",
    "    \"Vandenberg Air Force Base\": 1, \n",
    "    \"Lompoc\": 1, \n",
    "    \"La Purisima Mission\": 1,\n",
    "    \"California\": 1, \n",
    "    \"Buellton\": 1,\n",
    "    \"Pea Soup Andersen\": 1,\n",
    "    \"Hearst Castle\": 1,\n",
    "    \"Mendenhall’s Museum of Gas Pumps and Petroliana\": 4, # spacy\n",
    "    \"OstrichLand USA\": 3,\n",
    "    \"Santa Ynez\": 1,\n",
    "    \"Santa Barbara\": 1,\n",
    "    \"State Street\": 1,\n",
    "    \"El Paseo\": 1,\n",
    "    \"Harbor House Inn\": 1, \n",
    "    \"Huntington Beach\": 1,\n",
    "    \"Huntington Pier\": 1,\n",
    "    \"International Surfing Museum\": 1,\n",
    "    \"Aquarium of the Pacific\": 1,\n",
    "    \"Long Beach\": 1,\n",
    "    \"Long Beach Convention and Entertainment Center\": 1,\n",
    "    \"Crystal Cove State Park\": 1,\n",
    "    \"Orange County\": 1,\n",
    "    \"Crystal Cove Beach Cottages\": 3,\n",
    "    \"Los Trancos Creek\": 1\n",
    "}"
   ]
  },
  {
   "cell_type": "code",
   "execution_count": 9,
   "id": "lovely-improvement",
   "metadata": {},
   "outputs": [
    {
     "data": {
      "text/plain": [
       "(array([1, 3, 4]), array([30,  3,  1]))"
      ]
     },
     "execution_count": 9,
     "metadata": {},
     "output_type": "execute_result"
    }
   ],
   "source": [
    "np.unique(np.array(list(page2.values())), return_counts=True)"
   ]
  },
  {
   "cell_type": "code",
   "execution_count": 10,
   "id": "otherwise-sarah",
   "metadata": {},
   "outputs": [
    {
     "data": {
      "text/plain": [
       "0.8823529411764706"
      ]
     },
     "execution_count": 10,
     "metadata": {},
     "output_type": "execute_result"
    }
   ],
   "source": [
    "sum([1 for i in page2.values() if i == 1]) / len(page2.values())"
   ]
  },
  {
   "cell_type": "code",
   "execution_count": 44,
   "id": "upset-somewhere",
   "metadata": {},
   "outputs": [
    {
     "data": {
      "text/plain": [
       "0.08823529411764706"
      ]
     },
     "execution_count": 44,
     "metadata": {},
     "output_type": "execute_result"
    }
   ],
   "source": [
    "sum([1 for i in page2.values() if i == 3]) / len(page2.values())"
   ]
  },
  {
   "cell_type": "code",
   "execution_count": 11,
   "id": "combined-estate",
   "metadata": {},
   "outputs": [],
   "source": [
    "page3_geolocations = ['Crescent Rock',\n",
    " 'Piedmont',\n",
    " 'Baymont Inn & Suites',\n",
    " 'Big Meadows Lodge',\n",
    " 'Charlies Bunion',\n",
    " 'Clingmans Dome',\n",
    " 'Gateway Airport',\n",
    " 'Great Smoky Mountains National Park',\n",
    " 'Mammoth Cave',\n",
    " 'Gatlinburg',\n",
    " 'Calvary Rocks',\n",
    " 'Hawksbill Mountain',\n",
    " 'LeConte Lodge',\n",
    " 'Green River',\n",
    " 'Smoky Mountains',\n",
    " 'Rapidan Camp',\n",
    " 'George Washington Memorial Parkway',\n",
    " 'Cave City',\n",
    " 'Skyline Drive',\n",
    " 'Shenandoah Valley',\n",
    " 'Shenandoah River',\n",
    " 'Great Smoky Mountains',\n",
    " 'Cades Cove',\n",
    " 'Mount Le Conte',\n",
    " 'Blue Ridge Parkway',\n",
    " 'Grotto Falls',\n",
    " 'Chimney Tops',\n",
    " 'Skyland',\n",
    " 'Deep Creek Trail',\n",
    " 'Catoosa Wildlife Management Area',\n",
    " 'Union',\n",
    " 'Compton Peak',\n",
    " 'Arlington',\n",
    " 'Shenandoah National Park',\n",
    " 'Skyland Resort',\n",
    " 'Ronald Reagan Washington National Airport',\n",
    " 'Cataloochee',\n",
    " 'Shenandoah',\n",
    " 'Mammoth Cave National Park',\n",
    " 'Newfound Gap',\n",
    " 'Manassas National Battlefield Park',\n",
    " 'Cedar Sink',\n",
    " 'Buckhorn Inn',\n",
    " 'Trillium Gap Trail',\n",
    " 'Frozen Niagara',\n",
    " 'I-64W',\n",
    " 'Pollock Dining Room',\n",
    " 'Indian Creek Falls',\n",
    " 'Blackrock Summit',\n",
    " 'Tuscarora-Overall Run Trail',\n",
    " 'Cataloochee Valley',\n",
    " 'Cades Cove Campground Store',\n",
    " 'Mammoth Cave Hotel',\n",
    " 'Crystal Lake Café',\n",
    " 'Appalachian Trail']"
   ]
  },
  {
   "cell_type": "code",
   "execution_count": 12,
   "id": "green-growth",
   "metadata": {},
   "outputs": [],
   "source": [
    "page3 = {\n",
    "    \"Ronald Reagan Washington National Airport\": 1,\n",
    "    \"Arlington\": 1,\n",
    "    \"Virginia\": 1,\n",
    "    \"Shenandoah\": 2,\n",
    "    \"Great Smoky Mountains\": 1,\n",
    "    \"Mammoth Cave\": 1,\n",
    "    \"Shenandoah National Park\": 1,\n",
    "    \"Skyline Drive\": 1,\n",
    "    \"Shenandoah National Park\": 1,\n",
    "    \"Piedmont\": 1,\n",
    "    \"Shenandoah Valley\": 1,\n",
    "    \"George Washington Memorial Parkway\": 1,\n",
    "    \"Manassas National Battlefield Park\": 1,\n",
    "    \"Skyland Resort\": 1,\n",
    "    \"Shenandoah River\": 1,\n",
    "    \"Shenandoah Valley\": 1,\n",
    "    \"Pollock Dining Room\": 1,\n",
    "    \"Big Meadows Lodge\": 1,\n",
    "    \"Spottswood Dining Room\": 3,\n",
    "    \"Crescent Rock\": 1,\n",
    "    \"Hawksbill Mountain\": 2,\n",
    "    \"Rapidan Camp\": 1,\n",
    "    \"Blackrock Summit\": 1,\n",
    "    \"Compton Peak\": 1,\n",
    "    \"Overall Run Falls\": 3,\n",
    "    \"Calvary Rocks\": 1,\n",
    "    \"Great Smoky Mountains National Park\": 1,\n",
    "    \"Smoky Mountains\": 1,\n",
    "    \"Blue Ridge Parkway\": 1,\n",
    "    \"LeConte Lodge\": 1,\n",
    "    \"Buckhorn Inn\": 3,\n",
    "    \"Baymont Inn & Suites\": 3,\n",
    "    \"Cades Cove Campground Store\": 1,\n",
    "    \"Cades Cove\": 1,\n",
    "    \"Clingmans Dome\": 1,\n",
    "    \"Grotto Falls\": 1,\n",
    "    \"Deep Creek Trail\": 1,\n",
    "    \"Newfound Gap\": 1,\n",
    "    \"Charlies Bunion\": 1,\n",
    "    \"Chimney Tops\": 1,\n",
    "    \"Mount Le Conte\": 1,\n",
    "    \"Cataloochee Valley\": 1,\n",
    "    \"Mammoth Cave National Park\": 1,\n",
    "    \"Catoosa Wildlife Management Area\": 1,\n",
    "    \"Mammoth Cave Hotel\": 1,\n",
    "    \"Crystal Lake Café\": 3,\n",
    "    \"Watermill Restaurant\": 3,\n",
    "    \"Green River\": 1,\n",
    "    \"Cedar Sink\": 1,\n",
    "    \"Frozen Niagara\": 1\n",
    "}"
   ]
  },
  {
   "cell_type": "code",
   "execution_count": 13,
   "id": "received-cancellation",
   "metadata": {},
   "outputs": [
    {
     "data": {
      "text/plain": [
       "(array([1, 2, 3]), array([40,  2,  6]))"
      ]
     },
     "execution_count": 13,
     "metadata": {},
     "output_type": "execute_result"
    }
   ],
   "source": [
    "np.unique(np.array(list(page3.values())), return_counts=True)"
   ]
  },
  {
   "cell_type": "code",
   "execution_count": 14,
   "id": "medium-indonesian",
   "metadata": {},
   "outputs": [
    {
     "data": {
      "text/plain": [
       "0.8333333333333334"
      ]
     },
     "execution_count": 14,
     "metadata": {},
     "output_type": "execute_result"
    }
   ],
   "source": [
    "sum([1 for i in page3.values() if i == 1]) / len(page3.values())"
   ]
  },
  {
   "cell_type": "code",
   "execution_count": 46,
   "id": "inappropriate-press",
   "metadata": {},
   "outputs": [
    {
     "data": {
      "text/plain": [
       "0.125"
      ]
     },
     "execution_count": 46,
     "metadata": {},
     "output_type": "execute_result"
    }
   ],
   "source": [
    "sum([1 for i in page3.values() if i == 3]) / len(page3.values())"
   ]
  },
  {
   "cell_type": "code",
   "execution_count": 15,
   "id": "oriental-alberta",
   "metadata": {},
   "outputs": [],
   "source": [
    "page4_geolocations = ['Kings Canyon Scenic Byway',\n",
    " 'Wawona',\n",
    " 'Yosemite',\n",
    " 'Furnace Creek',\n",
    " 'Kings River',\n",
    " 'Scotty’s Castle',\n",
    " 'Glacier Point',\n",
    " 'Vernal',\n",
    " 'Kings Canyon National Park',\n",
    " 'Sequoia Park',\n",
    " 'Sierra',\n",
    " 'Taft Point',\n",
    " 'Stovepipe Wells',\n",
    " 'General Grant Tree',\n",
    " 'Yosemite National Park',\n",
    " 'Furnace Creek Ranch',\n",
    " 'Grizzly Giant',\n",
    " 'Death Valley National Park',\n",
    " 'Badwater',\n",
    " 'Death Valley',\n",
    " 'Lower Yosemite Fall',\n",
    " 'Badger Pass',\n",
    " 'Las Vegas',\n",
    " 'Ubehebe Crater',\n",
    " 'Dante’s View',\n",
    " 'Half Dome',\n",
    " 'Hume Lake',\n",
    " 'Manzanar National Historic Site',\n",
    " 'Alabama Hills',\n",
    " 'Mariposa Grove',\n",
    " 'Lodgepole',\n",
    " 'Olmsted Point',\n",
    " 'Wildrose Peak',\n",
    " 'Vernal Fall',\n",
    " 'Furnace Creek Inn',\n",
    " 'Mirror Lake',\n",
    " 'Ash Mountain',\n",
    " 'Sentinel Dome',\n",
    " 'General Sherman Tree',\n",
    " 'Merced River',\n",
    " 'Yosemite Valley',\n",
    " 'El Capitan',\n",
    " 'Coarsegold',\n",
    " 'Crystal Cave',\n",
    " 'Lone Pine',\n",
    " 'Mist Trail',\n",
    " 'Sequoia',\n",
    " 'Zabriskie Point',\n",
    " 'Yosemite Falls',\n",
    " 'Tunnel Log',\n",
    " 'Death Valley Junction',\n",
    " 'Mono Lake',\n",
    " 'Mount Whitney',\n",
    " 'Nevada Falls',\n",
    " 'Moro Rock',\n",
    " 'Sierra Nevada',\n",
    " 'Kings Canyon',\n",
    " 'Swinging Bridge',\n",
    " 'Giant Forest',\n",
    " 'Golden Canyon',\n",
    " 'Glacier Point Road',\n",
    " 'Artists Drive',\n",
    " 'The Ahwahnee Hotel',\n",
    " 'Wildrose Charcoal Kilns',\n",
    " 'Grants Grove',\n",
    " 'Underground Tour',\n",
    " 'Wuksachi Lodge',\n",
    " 'McCarran International',\n",
    " 'Furnace Creek Resort',\n",
    " 'Tioga Pass Road',\n",
    " 'Peaks Restaurant',\n",
    " 'North Grove Loop',\n",
    " 'Crescent Meadow Road']"
   ]
  },
  {
   "cell_type": "code",
   "execution_count": 16,
   "id": "athletic-bosnia",
   "metadata": {},
   "outputs": [],
   "source": [
    "page4 = {\n",
    "    \"McCarran International\": 1,\n",
    "    \"Las Vegas\": 1,\n",
    "    \"Nevada\": 1,\n",
    "    \"California\": 1,\n",
    "    \"Sierra Nevada\": 1,\n",
    "    \"Death Valley\": 7,\n",
    "    \"Mount Whitney\": 1,\n",
    "    \"Sequoia\": 2,\n",
    "    \"Yosemite Falls\": 1,\n",
    "    \"Yosemite\": 1,\n",
    "    \"Death Valley National Park\": 1,\n",
    "    \"Death Valley Junction\": 1,\n",
    "    \"Amargosa Opera House and Hotel\": 3,\n",
    "    \"Furnace Creek Resort\": 1,\n",
    "    \"Furnace Creek Inn\": 1,\n",
    "    \"Badwater\": 1,\n",
    "    \"Scotty’s Castle\": 1,\n",
    "    \"Stovepipe Wells\": 1, \n",
    "    \"Zabriskie Point\": 1,\n",
    "    \"Furnace Creek\": 1,\n",
    "    \"Golden Canyon\": 2, # several results in one region, \n",
    "    \"Red Cathedral\": 3, # hiking area not known to gazetteer\n",
    "    \"Wildrose Charcoal Kilns\": 1,\n",
    "    \"Wildrose Peak\": 1,\n",
    "    \"Ubehebe Crater\": 1,\n",
    "    \"Yosemite National Park\": 1,\n",
    "    \"Merced River\": 1,\n",
    "    \"Alabama Hills\": 1,\n",
    "    \"Lone Pine\": 1,\n",
    "    \"Manzanar National Historic Site\": 1,\n",
    "    \"Mono Lake\": 1,\n",
    "    \"Ahwahnee Hotel\": 4,\n",
    "    \"Lower Yosemite Fall\": 1,\n",
    "    \"Yosemite Valley\": 1,\n",
    "    \"Half Dome\": 1,\n",
    "    \"Olmsted Point\": 1,\n",
    "    \"Mirror Lake\": 3,\n",
    "    \"Mariposa Grove\": 1,\n",
    "    \"Wawona\": 1,\n",
    "    \"Grizzly Giant\": 1,\n",
    "    \"Glacier Point\": 1,\n",
    "    \"Taft Point\": 1,\n",
    "    \"Sentinel Dome\": 1,\n",
    "    \"General Sherman Tree\": 1,\n",
    "    \"Coarsegold\": 1,\n",
    "    \"Wuksachi Lodge\": 1,\n",
    "    \"Wolverton Meadow\": 2, # used different name than in gazetteer, str similarity failed\n",
    "    \"Giant Forest\": 1,\n",
    "    \"Crystal Cave\": 1,\n",
    "    \"Congress Trail\": 4,\n",
    "    \"Kings Canyon\": 1,\n",
    "    \"North Grove Loop\": 3,\n",
    "    \"General Grant Tree\": 1,\n",
    "    \"Kings Canyon Scenic Byway\": 1, \n",
    "    \"Hume Lake\": 1,\n",
    "    \"Kings River\": 1,\n",
    "    \"Moro Rock\": 1,\n",
    "    \"Ash Mountain\": 3,\n",
    "    \"Tunnel Log\": 1,\n",
    "    \"Crescent Meadow Road\": 1\n",
    "}"
   ]
  },
  {
   "cell_type": "code",
   "execution_count": 17,
   "id": "cultural-marine",
   "metadata": {},
   "outputs": [
    {
     "data": {
      "text/plain": [
       "(array([1, 2, 3, 4, 7]), array([49,  3,  5,  2,  1]))"
      ]
     },
     "execution_count": 17,
     "metadata": {},
     "output_type": "execute_result"
    }
   ],
   "source": [
    "np.unique(np.array(list(page4.values())), return_counts=True)"
   ]
  },
  {
   "cell_type": "code",
   "execution_count": 18,
   "id": "pregnant-coast",
   "metadata": {},
   "outputs": [
    {
     "data": {
      "text/plain": [
       "0.8166666666666667"
      ]
     },
     "execution_count": 18,
     "metadata": {},
     "output_type": "execute_result"
    }
   ],
   "source": [
    "sum([1 for i in page4.values() if i == 1]) / len(page4.values())"
   ]
  },
  {
   "cell_type": "code",
   "execution_count": 19,
   "id": "fifth-virus",
   "metadata": {},
   "outputs": [
    {
     "data": {
      "text/plain": [
       "0.08333333333333333"
      ]
     },
     "execution_count": 19,
     "metadata": {},
     "output_type": "execute_result"
    }
   ],
   "source": [
    "sum([1 for i in page4.values() if i == 3]) / len(page4.values())"
   ]
  },
  {
   "cell_type": "code",
   "execution_count": 20,
   "id": "amino-biography",
   "metadata": {},
   "outputs": [],
   "source": [
    "page5_geolocations = ['Westcliffe',\n",
    " 'Zapata Ranch',\n",
    " 'Paonia',\n",
    " 'Valley View Hot Springs',\n",
    " 'Grand Junction',\n",
    " 'La Veta',\n",
    " 'Zapata Falls',\n",
    " 'Florence',\n",
    " 'North Fork Valley',\n",
    " 'Black Canyon',\n",
    " 'Baca National Wildlife Refuge',\n",
    " 'Gunnison River',\n",
    " 'South Rim',\n",
    " 'Lizard',\n",
    " 'Ragged Mountains',\n",
    " 'Colorado Springs',\n",
    " 'Moab',\n",
    " 'Milky Way',\n",
    " 'Spanish Peaks',\n",
    " 'Paonia Reservoir',\n",
    " 'San Luis Valley',\n",
    " 'Wild West',\n",
    " 'Great Sand Dunes National Park',\n",
    " 'Crestone',\n",
    " 'Colorado National Monument',\n",
    " 'Midwest',\n",
    " 'Bluff Park',\n",
    " 'Willow Lake',\n",
    " 'Silver Cliff',\n",
    " 'Saddlehorn Campground',\n",
    " 'Book Cliffs View',\n",
    " 'South Rim Campground',\n",
    " 'Piñon Flats',\n",
    " 'Great Sand Dunes',\n",
    " 'The Crestone Peaks',\n",
    " 'Paint Mines Interpretive Park',\n",
    " 'Ziggurat',\n",
    " 'Ryus Avenue Bakery',\n",
    " 'Southwest Colorado',\n",
    " 'Colorado FIVE',\n",
    " 'Paonia State Park',\n",
    " 'Black Canyon of',\n",
    " 'Bross Hotel',\n",
    " 'Smokey Jack Observatory',\n",
    " 'American Viticulture Area',\n",
    " 'Gunnison National Park']"
   ]
  },
  {
   "cell_type": "code",
   "execution_count": 21,
   "id": "distant-tsunami",
   "metadata": {},
   "outputs": [],
   "source": [
    "page5 = {\n",
    "    \"Colorado\": 1,\n",
    "    \"Paint Mines Interpretive Park\": 1,\n",
    "    \"Colorado Springs\": 1,\n",
    "    \"Westcliffe\": 1,\n",
    "    \"Florence\": 1,\n",
    "    \"Turmeric Indian & Nepalese Restaurant\": 3,\n",
    "    \"Silver Cliff\": 1,\n",
    "    \"Smokey Jack Observatory\": 1,\n",
    "    \"La Veta\": 1,\n",
    "    \"Spanish Peaks\": 1,\n",
    "    \"Wahatoya State Wildlife Area\": 3,\n",
    "    \"Ryus Avenue Bakery\": 1,\n",
    "    \"Great Sand Dunes National Park\": 1,\n",
    "    \"Great Sand Dunes\": 2,\n",
    "    \"Piñon Flats\": 3,\n",
    "    \"Zapata Ranch\": 1,\n",
    "    \"Zapata Falls\": 1,\n",
    "    \"The Crestone Peaks\": 1,\n",
    "    \"Crestone\": 1,\n",
    "    \"Crestone Ziggurat\": 3, \n",
    "    \"San Luis Valley\": 1,\n",
    "    \"Valley View Hot Springs\": 1,\n",
    "    \"Crestone Brewing Company\": 3,\n",
    "    \"Baca National Wildlife Refuge\": 1,\n",
    "    \"Willow Lake\": 3,\n",
    "    \"Black Canyon of the Gunnison National Park\": 4,\n",
    "    \"Gunnison River\": 1,\n",
    "    \"Paonia\": 1,\n",
    "    \"North Fork Valley\": 3,\n",
    "    \"Bross Hotel\": 1,\n",
    "    \"Paonia State Park\": 1,\n",
    "    \"Ragged Mountains\": 3, \n",
    "    \"Paonia Reservoir\": 1,\n",
    "    \"Colorado National Monument\": 1,\n",
    "    \"Bin 707\": 2, # might be that unify lookup results missed it place on some exception\n",
    "    \"Wedding Canyons\": 3,\n",
    "    \"Book Cliffs View\": 1,\n",
    "    \"Saddlehorn Campground\": 1\n",
    "}"
   ]
  },
  {
   "cell_type": "code",
   "execution_count": 22,
   "id": "cooked-idaho",
   "metadata": {},
   "outputs": [
    {
     "data": {
      "text/plain": [
       "0.6842105263157895"
      ]
     },
     "execution_count": 22,
     "metadata": {},
     "output_type": "execute_result"
    }
   ],
   "source": [
    "sum([1 for i in page5.values() if i == 1]) / len(page5.values())"
   ]
  },
  {
   "cell_type": "code",
   "execution_count": 23,
   "id": "structural-gregory",
   "metadata": {},
   "outputs": [
    {
     "data": {
      "text/plain": [
       "0.23684210526315788"
      ]
     },
     "execution_count": 23,
     "metadata": {},
     "output_type": "execute_result"
    }
   ],
   "source": [
    "sum([1 for i in page5.values() if i == 3])/ len(page5.values())"
   ]
  },
  {
   "cell_type": "code",
   "execution_count": 24,
   "id": "subsequent-brooklyn",
   "metadata": {},
   "outputs": [],
   "source": [
    "page6_geolocations = ['Ruby Falls',\n",
    " 'Craighead',\n",
    " 'Craighead Caverns',\n",
    " 'Notchy Creek',\n",
    " 'Chihuahuan Desert',\n",
    " 'Campground',\n",
    " 'Cave Spring Hollow',\n",
    " 'Chattanooga',\n",
    " 'Nickajack Lake',\n",
    " 'Dunbar Cave State Park',\n",
    " 'Caverns',\n",
    " 'Earth',\n",
    " 'St. Louis',\n",
    " 'Red River Campground',\n",
    " 'Spring Creek Campground',\n",
    " 'Cherokee National Forest',\n",
    " 'Mexico',\n",
    " 'Lookout Mountain',\n",
    " 'Raccoon Mountain Caverns',\n",
    " 'Cumberland Caverns’',\n",
    " 'Cumberland Caverns',\n",
    " 'National Register of Historic Places',\n",
    " 'The Caverns',\n",
    " 'Bell Witch Cave']"
   ]
  },
  {
   "cell_type": "code",
   "execution_count": 25,
   "id": "entertaining-thumb",
   "metadata": {},
   "outputs": [],
   "source": [
    "page6 = {\n",
    "    \"Tennessee\": 1,\n",
    "    \"Chattanooga\": 1,\n",
    "    \"Craighead Caverns\": 1,\n",
    "    \"KOA\": 3,\n",
    "    \"Notchy Creek\": 1,\n",
    "    \"Cherokee National Forest\": 1,\n",
    "    \"Craighead\": 2,  # coreference resolution would help in this case\n",
    "    \"Bell Witch Cave\": 3,\n",
    "    \"Dunbar Cave State Park\": 1,\n",
    "    \"Spring Creek Campground\": 3,\n",
    "    \"Red River Campground\": 3,\n",
    "    \"Cave Spring Hollow\": 1,\n",
    "    \"Jack Daniel’s Distillery\": 3,\n",
    "    \"Cumberland Caverns\": 1,\n",
    "    \"The Caverns\": 3,\n",
    "    \"Ruby Falls\": 1,\n",
    "    \"Lookout Mountain\": 1,\n",
    "    \"Nickajack Cave\": 3, # gazetteer query with placetype=place, wikipedia page doesn't have any typename,\n",
    "                         # therefore dbpedia returned nothing relevant\n",
    "    \"Nickajack Lake\": 1,\n",
    "    \"Raccoon Mountain Caverns and Campground\": 4,\n",
    "}"
   ]
  },
  {
   "cell_type": "code",
   "execution_count": 26,
   "id": "shaped-discretion",
   "metadata": {},
   "outputs": [
    {
     "data": {
      "text/plain": [
       "0.55"
      ]
     },
     "execution_count": 26,
     "metadata": {},
     "output_type": "execute_result"
    }
   ],
   "source": [
    "sum([1 for i in page6.values() if i == 1]) / len(page6.values())"
   ]
  },
  {
   "cell_type": "code",
   "execution_count": 27,
   "id": "public-apparel",
   "metadata": {},
   "outputs": [
    {
     "data": {
      "text/plain": [
       "0.35"
      ]
     },
     "execution_count": 27,
     "metadata": {},
     "output_type": "execute_result"
    }
   ],
   "source": [
    "sum([1 for i in page6.values() if i == 3]) / len(page6.values())"
   ]
  },
  {
   "cell_type": "code",
   "execution_count": 28,
   "id": "flush-happening",
   "metadata": {},
   "outputs": [],
   "source": [
    "page7_geolocations = ['Cape Elizabeth',\n",
    " 'Main Street',\n",
    " 'Crescent Beach',\n",
    " 'New York City',\n",
    " 'Wolfe’s Neck Woods State Park',\n",
    " 'Topsham',\n",
    " 'Bath Iron Works',\n",
    " 'Freeport',\n",
    " 'Portland',\n",
    " 'Androscoggin River',\n",
    " 'Camden',\n",
    " 'Rockland',\n",
    " 'Paris',\n",
    " 'Kennebec River',\n",
    " 'Farnsworth Art Museum',\n",
    " 'Scarborough River',\n",
    " 'New England',\n",
    " 'Kennebunkport',\n",
    " 'Inn by the Sea',\n",
    " 'Brunswick',\n",
    " 'Maine Maritime Museum',\n",
    " 'Penobscot Bay',\n",
    " 'Damariscotta',\n",
    " 'Bath',\n",
    " 'Napa Valley',\n",
    " 'Damariscotta River',\n",
    " 'Urban Farm Fermentory',\n",
    " 'L.L. Bean',\n",
    " 'Sea Bags',\n",
    " 'Bath Freight Shed',\n",
    " 'Animal Refuge League of Portland',\n",
    " 'Pine Tree State',\n",
    " 'Oyster Trail',\n",
    " 'U.S. Navy',\n",
    " 'Androscoggin Swinging Bridge']"
   ]
  },
  {
   "cell_type": "markdown",
   "id": "upset-klein",
   "metadata": {},
   "source": [
    "* 1 # extracted and correctly geocoded\n",
    "* 2 # incorrectly geocoded\n",
    "* 3 # no gazetteer entry\n",
    "* 4 # spacy failed to extract\n",
    "* 5 # not relevant point filtered out\n",
    "* 6 # dbpedia timeout\n",
    "* 7 # duplicate gazetteer entry with different coordinates"
   ]
  },
  {
   "cell_type": "code",
   "execution_count": 29,
   "id": "worst-prague",
   "metadata": {},
   "outputs": [],
   "source": [
    "page7 = {\n",
    "    \"Maine\": 1,\n",
    "    \"Pine Tree State\": 3,\n",
    "    \"Kennebunkport\": 1,\n",
    "    \"Mabel's Lobster Claw Restaurant\": 3,\n",
    "    \"Sandy Pines Campground\": 3,\n",
    "    \"Scarborough River\": 1,\n",
    "    \"Inn by the Sea\": 1,\n",
    "    \"Cape Elizabeth\": 1,\n",
    "    \"Crescent Beach\": 1,\n",
    "    \"Portland\": 1,\n",
    "    \"Urban Farm Fermentory\": 3,\n",
    "    \"Freeport\": 1,\n",
    "    \"Wolfe’s Neck Woods State Park\": 1,\n",
    "    \"Brunswick’s Fort Andross Mill\": 4,\n",
    "    \"Androscoggin River\": 1,\n",
    "    \"Topsham\": 1,\n",
    "    \"Androscoggin Riverwalk\": 2, # name by which gazetteer knows this place differed significantly\n",
    "    \"Kennebec River\": 1,\n",
    "    \"Maine Maritime Museum\": 1,\n",
    "    \"Damariscotta River\": 1,\n",
    "    \"Rockland\": 1,\n",
    "    \"Farnsworth Art Museum\": 1,\n",
    "    \"Penobscot Bay\": 1,\n",
    "    \"Camden\": 1,\n",
    "    \"Sea Bags\": 3  # 4 outlets, gazetteers knows only one, which is in 160 range, but from article it is clear\n",
    "    # that author meant other outlet\n",
    "}"
   ]
  },
  {
   "cell_type": "code",
   "execution_count": 30,
   "id": "systematic-admission",
   "metadata": {},
   "outputs": [
    {
     "data": {
      "text/plain": [
       "0.72"
      ]
     },
     "execution_count": 30,
     "metadata": {},
     "output_type": "execute_result"
    }
   ],
   "source": [
    "sum([1 for i in page7.values() if i == 1]) / len(page7.values())"
   ]
  },
  {
   "cell_type": "code",
   "execution_count": 31,
   "id": "protected-pledge",
   "metadata": {},
   "outputs": [
    {
     "data": {
      "text/plain": [
       "0.2"
      ]
     },
     "execution_count": 31,
     "metadata": {},
     "output_type": "execute_result"
    }
   ],
   "source": [
    "sum([1 for i in page7.values() if i == 3]) / len(page7.values())"
   ]
  },
  {
   "cell_type": "code",
   "execution_count": 32,
   "id": "unnecessary-inspiration",
   "metadata": {},
   "outputs": [],
   "source": [
    "page8_geolocations = ['Bear Mountain',\n",
    " 'Hudson',\n",
    " 'Monroe',\n",
    " 'Tappan Zee Bridge',\n",
    " 'Sleepy Hollow Cemetery',\n",
    " 'Lyndhurst',\n",
    " 'Greenwich Village',\n",
    " 'Nyack',\n",
    " 'Bear Mountain State Park',\n",
    " 'New Paltz',\n",
    " 'Montgomery Place',\n",
    " 'Hudson River',\n",
    " 'Hudson River Maritime Museum',\n",
    " 'Clermont State Historic Site',\n",
    " 'Kingston',\n",
    " 'Albany',\n",
    " 'Stony Point',\n",
    " 'Rhinebeck',\n",
    " 'Home of Franklin D. Roosevelt National Historic Site',\n",
    " 'West Point',\n",
    " 'Eleanor Roosevelt National Historic Site',\n",
    " 'United States Military Academy',\n",
    " 'Sleepy Hollow',\n",
    " 'Rondout',\n",
    " 'Hudson Valley',\n",
    " 'Goshen',\n",
    " 'Mohonk Lake',\n",
    " 'Newburgh',\n",
    " 'Storm King Mountain',\n",
    " 'America',\n",
    " 'Philipsburg Manor',\n",
    " 'Old Dutch Church',\n",
    " 'Tarrytown',\n",
    " 'Kingston-Rhinecliff Bridge',\n",
    " 'Churchill Downs',\n",
    " 'Kykuit',\n",
    " 'Harness Racing Museum',\n",
    " 'Hyde Park',\n",
    " 'Vanderbilt Mansion National Historic Site',\n",
    " 'Mohonk Mountain House',\n",
    " 'Springwood',\n",
    " 'Visitor Center',\n",
    " 'Old Kingston',\n",
    " 'Old Rhinebeck Aerodrome',\n",
    " 'U.S. 6',\n",
    " 'Bear Mountain Inn',\n",
    " 'NY 9A',\n",
    " 'Trolley Museum of New York',\n",
    " 'Staatsburgh State Historic Site',\n",
    " 'Beekman Arms',\n",
    " 'Culinary Institute of America',\n",
    " 'The Visitor Center',\n",
    " 'Val-Kill',\n",
    " 'National Register of Historic Places',\n",
    " 'Gunks',\n",
    " 'Goshen Historic Track',\n",
    " 'Mohonk',\n",
    " 'Shawangunks Ridge',\n",
    " 'Edward Hopper House Art Center',\n",
    " 'Stockade District',\n",
    " 'Continental Army']"
   ]
  },
  {
   "cell_type": "code",
   "execution_count": 33,
   "id": "congressional-renewal",
   "metadata": {},
   "outputs": [],
   "source": [
    "page8 = {\n",
    "    \"Tappan Zee Bridge\": 1,\n",
    "    \"Hudson River\": 1,\n",
    "    \"Hyde Park\": 2,\n",
    "    \"Nyack\": 1,\n",
    "    \"Hudson\": 1,\n",
    "    \"Kingston\": 1,\n",
    "    \"Rhinebeck\": 1,\n",
    "    \"Tarrytown\": 1,\n",
    "    \"West Point\": 1,\n",
    "    \"United States Military Academy\": 1,\n",
    "    \"Greenwich Village\": 1,\n",
    "    \"Edward Hopper House Art Center\": 1,\n",
    "    \"Stony Point\": 1,\n",
    "    \"Bear Mountain State Park\": 1,\n",
    "    \"Bear Mountain\": 2, # several points in one state\n",
    "    \"George W. Perkins Memorial Drive\": 3,\n",
    "    \"Bear Mountain Inn\": 1,\n",
    "    \"Monroe\": 1,\n",
    "    \"NY 9A\": 1,\n",
    "    \"Museum Village\": 3,\n",
    "    \"Goshen\": 1,\n",
    "    \"Goshen Historic Track\": 1,\n",
    "    \"Harness Racing Museum\": 1,\n",
    "    \"Hall of Fame\": 4,\n",
    "    \"New Paltz\": 1,\n",
    "    \"Huguenot Street National Historic Landmark District\": 3,\n",
    "    # gazetteer query with placetype=place, wikipedia page doesn't have any typename,\n",
    "    # therefore dbpedia returned nothing relevant,\n",
    "    \"Shawangunks Ridge\": 1,\n",
    "    \"Mohonk Mountain House\": 1,\n",
    "    \"Mohonk Lake\": 1,\n",
    "    \"Kingston Urban Cultural Park\": 3,\n",
    "    \"Rondout\": 1,\n",
    "    \"Trolley Museum of New York\": 1,\n",
    "    \"Hudson River Maritime Museum\": 1,\n",
    "    \"Kingston-Rhinecliff Bridge\": 1,\n",
    "    \"Beekman Arms\": 1,\n",
    "    \"Old Rhinebeck Aerodrome\": 1,\n",
    "    \"Hudson River National Historic Landmark District\": 2,  \n",
    "    # name by which gazetteer knows this place differed significantly\n",
    "    \"Clermont State Historic Site\": 1,\n",
    "    \"Montgomery Place\": 1,\n",
    "    \"Staatsburgh State Historic Site\": 1,\n",
    "    \"Vanderbilt Mansion National Historic Site\": 1,\n",
    "    \"Home of Franklin D. Roosevelt National Historic Site\": 1,\n",
    "    \"Eleanor Roosevelt National Historic Site\": 1,\n",
    "    \"Culinary Institute of America\": 1,\n",
    "    \"Newburgh\": 1,\n",
    "    \"Storm King Mountain\": 1,\n",
    "    \"Sleepy Hollow\": 1,\n",
    "    \"Philipsburg Manor\": 1,\n",
    "    \"Kykuit\": 3,\n",
    "    \"Hudson Valley\": 1,\n",
    "    \"Sleepy Hollow Cemetery\": 1,\n",
    "    \"Lyndhurst\": 2\n",
    "}"
   ]
  },
  {
   "cell_type": "code",
   "execution_count": 34,
   "id": "attempted-phone",
   "metadata": {},
   "outputs": [
    {
     "data": {
      "text/plain": [
       "80.76923076923077"
      ]
     },
     "execution_count": 34,
     "metadata": {},
     "output_type": "execute_result"
    }
   ],
   "source": [
    "sum([1 for i in page8.values() if i == 1]) / len(page8.values()) * 100"
   ]
  },
  {
   "cell_type": "code",
   "execution_count": 35,
   "id": "opposed-arbor",
   "metadata": {},
   "outputs": [
    {
     "data": {
      "text/plain": [
       "9.615384615384617"
      ]
     },
     "execution_count": 35,
     "metadata": {},
     "output_type": "execute_result"
    }
   ],
   "source": [
    "sum([1 for i in page8.values() if i == 3]) / len(page8.values()) * 100"
   ]
  },
  {
   "cell_type": "code",
   "execution_count": 36,
   "id": "still-framework",
   "metadata": {},
   "outputs": [],
   "source": [
    "page9_geolocations = ['Chicago River',\n",
    " 'North Branch',\n",
    " 'Sunda',\n",
    " 'Lake Michigan',\n",
    " 'Chicago',\n",
    " 'Museum of Science and Industry',\n",
    " 'Bucktown',\n",
    " 'Shedd Aquarium',\n",
    " 'Pilsen',\n",
    " 'Wrigley Field',\n",
    " 'Lincoln Park',\n",
    " 'Kingston Mines',\n",
    " 'Ragstock',\n",
    " 'Lou Malnati',\n",
    " 'Bari Italian Deli',\n",
    " 'Mana Food Bar',\n",
    " 'Alfred Caldwell Lily Pool',\n",
    " 'Second Chance Thrift']"
   ]
  },
  {
   "cell_type": "code",
   "execution_count": 37,
   "id": "amazing-provision",
   "metadata": {},
   "outputs": [],
   "source": [
    "page9 = {\n",
    "    \"Chicago\": 1,\n",
    "    \"Chicago River\": 1,\n",
    "    \"Wrigley Field\": 1,\n",
    "    \"Pilsen\": 1,\n",
    "    \"Bucktown\": 3,\n",
    "    \"Brown Elephant\": 3,\n",
    "    \"Ragstock\": 1,\n",
    "    \"Second Chance Thrift\": 3,\n",
    "    \"Lou Malnati's\": 1,\n",
    "    \"Neo Futurists\": 3, # Performing arts group\n",
    "    \"Sound-Bar\": 3,\n",
    "    \"Lake Michigan\": 1,\n",
    "    \"Chilam Bilam\": 3,\n",
    "    \"Sunda\": 1,\n",
    "    \"Mana Food Bar\": 3, \n",
    "    \"Irazu\": 4,\n",
    "    \"Kingston Mines\": 3, \n",
    "    \"Bari Italian Deli\": 3,\n",
    "    \"Shedd Aquarium\": 1,\n",
    "    \"Museum of Science and Industry\": 1,\n",
    "    \"Lincoln Park\": 1,\n",
    "    \"Alfred Caldwell Lily Pool\": 1\n",
    "}"
   ]
  },
  {
   "cell_type": "code",
   "execution_count": 38,
   "id": "lucky-algorithm",
   "metadata": {},
   "outputs": [
    {
     "data": {
      "text/plain": [
       "0.5454545454545454"
      ]
     },
     "execution_count": 38,
     "metadata": {},
     "output_type": "execute_result"
    }
   ],
   "source": [
    "sum([1 for i in page9.values() if i == 1]) / len(page9.values())"
   ]
  },
  {
   "cell_type": "code",
   "execution_count": 39,
   "id": "worldwide-design",
   "metadata": {},
   "outputs": [
    {
     "data": {
      "text/plain": [
       "0.4090909090909091"
      ]
     },
     "execution_count": 39,
     "metadata": {},
     "output_type": "execute_result"
    }
   ],
   "source": [
    "sum([1 for i in page9.values() if i == 3]) / len(page9.values())"
   ]
  },
  {
   "cell_type": "code",
   "execution_count": 40,
   "id": "mature-motor",
   "metadata": {},
   "outputs": [],
   "source": [
    "page10_geolocations = ['Los Angeles',\n",
    " 'San Francisco',\n",
    " 'Carmel',\n",
    " 'South-of-the-Border',\n",
    " 'Stanford',\n",
    " 'Malibu',\n",
    " 'Palo Alto',\n",
    " 'Napa',\n",
    " 'Big Sur',\n",
    " 'Coupa Cafe',\n",
    " 'Santa Cruz',\n",
    " 'Silicon Valley',\n",
    " 'Clock Tower',\n",
    " 'Earth',\n",
    " 'Stanford University',\n",
    " 'Mountain View',\n",
    " 'Pacific Coast Highway',\n",
    " 'Santa Barbara',\n",
    " 'Philz Coffee',\n",
    " 'Palo Alto Creamery',\n",
    " 'Reposado',\n",
    " 'Stanford Memorial Church',\n",
    " 'Garden Court Hotel',\n",
    " 'Computer History Museum',\n",
    " 'Google']"
   ]
  },
  {
   "cell_type": "markdown",
   "id": "recovered-certificate",
   "metadata": {},
   "source": [
    "* 1 # extracted and correctly geocoded\n",
    "* 2 # incorrectly geocoded\n",
    "* 3 # no gazetteer entry\n",
    "* 4 # spacy failed to extract\n",
    "* 5 # not relevant point filtered out\n",
    "* 6 # dbpedia timeout\n",
    "* 7 # duplicate gazetteer entry with different coordinates"
   ]
  },
  {
   "cell_type": "code",
   "execution_count": 41,
   "id": "pressed-bryan",
   "metadata": {},
   "outputs": [],
   "source": [
    "page10 = {\n",
    "    \"California\": 1,\n",
    "    \"Los Angeles\": 1,\n",
    "    \"Santa Cruz\": 1,\n",
    "    \"Carmel\": 2,\n",
    "    \"Santa Barbara\": 1,\n",
    "    \"Malibu\": 1,\n",
    "    \"Pacific Coast Highway\": 1,\n",
    "    \"Silicon Valley\": 1,\n",
    "    \"Palo Alto\": 1,\n",
    "    \"Stanford University\": 1,\n",
    "    \"Garden Court Hotel\": 1,\n",
    "    \"Philz Coffee\": 1,\n",
    "    \"Coupa Cafe\": 2,\n",
    "    \"Stanford Memorial Church\": 1,\n",
    "    \"Clock Tower\": 2,\n",
    "    \"Google’s Mountain View campus\": 4,\n",
    "    \"Computer History Museum\": 1,\n",
    "    \"Palo Alto Junior Museum and Zoo\": 4,\n",
    "    \"Palo Alto Farmers Market\": 3,\n",
    "    \"Chocolate Garage\": 3,\n",
    "    \"Reposado\": 1,\n",
    "    \"Palo Alto Creamery\": 1\n",
    "}"
   ]
  },
  {
   "cell_type": "code",
   "execution_count": 42,
   "id": "environmental-recipient",
   "metadata": {},
   "outputs": [
    {
     "data": {
      "text/plain": [
       "0.6818181818181818"
      ]
     },
     "execution_count": 42,
     "metadata": {},
     "output_type": "execute_result"
    }
   ],
   "source": [
    "sum([1 for i in page10.values() if i == 1]) / len(page10.values())"
   ]
  },
  {
   "cell_type": "code",
   "execution_count": 43,
   "id": "greek-anaheim",
   "metadata": {},
   "outputs": [
    {
     "data": {
      "text/plain": [
       "0.09090909090909091"
      ]
     },
     "execution_count": 43,
     "metadata": {},
     "output_type": "execute_result"
    }
   ],
   "source": [
    "sum([1 for i in page10.values() if i == 3]) / len(page10.values())"
   ]
  },
  {
   "cell_type": "code",
   "execution_count": 49,
   "id": "configured-denver",
   "metadata": {},
   "outputs": [],
   "source": [
    "results = dict()\n",
    "page = 1\n",
    "for i in [page1, page2, page3, page4, page5, page6, page7, page8, page9, page10]:\n",
    "    results[page] = sum([1 for k in i.values() if k == 1]) / len(i.values())\n",
    "    page +=1"
   ]
  },
  {
   "cell_type": "code",
   "execution_count": 50,
   "id": "piano-gates",
   "metadata": {},
   "outputs": [
    {
     "data": {
      "text/plain": [
       "[(9, 0.5454545454545454),\n",
       " (6, 0.55),\n",
       " (10, 0.6818181818181818),\n",
       " (5, 0.6842105263157895),\n",
       " (7, 0.72),\n",
       " (1, 0.8032786885245902),\n",
       " (8, 0.8076923076923077),\n",
       " (4, 0.8166666666666667),\n",
       " (3, 0.8333333333333334),\n",
       " (2, 0.8823529411764706)]"
      ]
     },
     "execution_count": 50,
     "metadata": {},
     "output_type": "execute_result"
    }
   ],
   "source": [
    "sorted(results.items(), key=lambda x: x[1])"
   ]
  },
  {
   "cell_type": "code",
   "execution_count": null,
   "id": "combined-mirror",
   "metadata": {},
   "outputs": [],
   "source": []
  },
  {
   "cell_type": "code",
   "execution_count": null,
   "id": "composite-invalid",
   "metadata": {},
   "outputs": [],
   "source": []
  }
 ],
 "metadata": {
  "kernelspec": {
   "display_name": "Python 3",
   "language": "python",
   "name": "python3"
  },
  "language_info": {
   "codemirror_mode": {
    "name": "ipython",
    "version": 3
   },
   "file_extension": ".py",
   "mimetype": "text/x-python",
   "name": "python",
   "nbconvert_exporter": "python",
   "pygments_lexer": "ipython3",
   "version": "3.8.5"
  }
 },
 "nbformat": 4,
 "nbformat_minor": 5
}
