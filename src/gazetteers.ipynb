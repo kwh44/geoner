{
 "cells": [
  {
   "cell_type": "code",
   "execution_count": 1,
   "id": "based-hearing",
   "metadata": {},
   "outputs": [],
   "source": [
    "import json"
   ]
  },
  {
   "cell_type": "code",
   "execution_count": 2,
   "id": "handed-balance",
   "metadata": {},
   "outputs": [
    {
     "name": "stdout",
     "output_type": "stream",
     "text": [
      "/home/geoner/src\r\n"
     ]
    }
   ],
   "source": [
    "!pwd"
   ]
  },
  {
   "cell_type": "code",
   "execution_count": 3,
   "id": "female-denver",
   "metadata": {},
   "outputs": [],
   "source": [
    "with open('../data/articles.json') as json_file:\n",
    "    data = json.load(json_file)"
   ]
  },
  {
   "cell_type": "code",
   "execution_count": 4,
   "id": "joint-depth",
   "metadata": {},
   "outputs": [
    {
     "name": "stdout",
     "output_type": "stream",
     "text": [
      "418\n"
     ]
    }
   ],
   "source": [
    "number = 0\n",
    "for i in data:\n",
    "    number += len(data[i][\"places_and_poi\"])\n",
    "print(number)"
   ]
  },
  {
   "cell_type": "code",
   "execution_count": null,
   "id": "independent-waste",
   "metadata": {},
   "outputs": [],
   "source": [
    "import time\n",
    "import grequests"
   ]
  },
  {
   "cell_type": "code",
   "execution_count": null,
   "id": "fitted-theme",
   "metadata": {},
   "outputs": [],
   "source": [
    "# 20'000 credits daily limit per application (identified by the parameter 'username'),\n",
    "# the hourly limit is 1000 credits. A credit is a web service request hit for most services.\n",
    "# An exception is thrown when the limit is exceeded. \n",
    "geonames = {\"exact_match\":\"http://secure.geonames.org/searchJSON?maxRows=30&username=kwh44&name_equals=\",\n",
    "            \"general_match\": \"http://secure.geonames.org/searchJSON?maxRows=30&username=kwh44&name=\"}"
   ]
  },
  {
   "cell_type": "code",
   "execution_count": null,
   "id": "young-giant",
   "metadata": {},
   "outputs": [],
   "source": [
    "# https://www.gisgraphy.com/documentation/user-guide.php#fulltextservice\n",
    "gisgraphy = {\"exact_match\": \"https://services.gisgraphy.com/fulltext/fulltextsearch?&format=json&allwordsrequired=true&q=\",\n",
    "             \"general_match\": \"https://services.gisgraphy.com/fulltext/fulltextsearch?&format=json&q=\"}"
   ]
  },
  {
   "cell_type": "code",
   "execution_count": null,
   "id": "simplified-board",
   "metadata": {},
   "outputs": [],
   "source": [
    "# https://github.com/dbpedia/dbpedia-lookup\n",
    "dbpedia = \"https://lookup.dbpedia.org/api/search?&typeName=place&format=JSON_FULL&maxResults=3&query=Cain%27s%20Ballroom\"\n",
    "resource_name = \"Cain's_Ballroom\"\n",
    "rdf_page_json = f\"https://dbpedia.org/data/{resource_name}.json\""
   ]
  },
  {
   "cell_type": "code",
   "execution_count": null,
   "id": "experimental-lemon",
   "metadata": {},
   "outputs": [],
   "source": [
    "# making multiple queries to gazetteer api\n",
    "urls = []\n",
    "s = time.time()\n",
    "rs = (grequests.get(u) for u in urls)\n",
    "result = grequests.map(rs)\n",
    "e = time.time()\n",
    "print(\"Lookup time: \", e - s)"
   ]
  },
  {
   "cell_type": "markdown",
   "id": "comparative-brook",
   "metadata": {},
   "source": [
    "##### query placename string and response placename string : similarity measure"
   ]
  },
  {
   "cell_type": "code",
   "execution_count": null,
   "id": "ancient-salmon",
   "metadata": {},
   "outputs": [],
   "source": [
    "import difflib\n",
    "def similar(a: str, b: str) -> float:\n",
    "    return round(difflib.SequenceMatcher(lambda x: x == \" \", a, b).ratio(), 3)"
   ]
  },
  {
   "cell_type": "code",
   "execution_count": null,
   "id": "parliamentary-livestock",
   "metadata": {},
   "outputs": [],
   "source": [
    "a = \"Hudson River Historic District\"\n",
    "b = \"Hudson River National Historic Landmark District\"\n",
    "print(similar(a, b))"
   ]
  },
  {
   "cell_type": "code",
   "execution_count": null,
   "id": "bored-substitute",
   "metadata": {},
   "outputs": [],
   "source": []
  },
  {
   "cell_type": "code",
   "execution_count": null,
   "id": "meaningful-analysis",
   "metadata": {},
   "outputs": [],
   "source": []
  },
  {
   "cell_type": "code",
   "execution_count": null,
   "id": "catholic-blame",
   "metadata": {},
   "outputs": [],
   "source": []
  }
 ],
 "metadata": {
  "kernelspec": {
   "display_name": "Python 3",
   "language": "python",
   "name": "python3"
  },
  "language_info": {
   "codemirror_mode": {
    "name": "ipython",
    "version": 3
   },
   "file_extension": ".py",
   "mimetype": "text/x-python",
   "name": "python",
   "nbconvert_exporter": "python",
   "pygments_lexer": "ipython3",
   "version": "3.8.5"
  }
 },
 "nbformat": 4,
 "nbformat_minor": 5
}
