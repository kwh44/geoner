{
 "cells": [
  {
   "cell_type": "markdown",
   "id": "future-frequency",
   "metadata": {},
   "source": [
    "### Article web page processing"
   ]
  },
  {
   "cell_type": "code",
   "execution_count": 1,
   "id": "blocked-season",
   "metadata": {},
   "outputs": [],
   "source": [
    "import html2text\n",
    "import json\n",
    "import requests\n",
    "import numpy as np\n",
    "from bs4 import BeautifulSoup"
   ]
  },
  {
   "cell_type": "code",
   "execution_count": 2,
   "id": "informal-registration",
   "metadata": {},
   "outputs": [],
   "source": [
    "def text_from_html(url: str): #data_folder_html_file_id):\n",
    "    \"\"\"\n",
    "    Given url of the webpage returns the readable text from the page\n",
    "    \"\"\"\n",
    "    #road_trip = open(\"../data/\" + str(data_folder_html_file_id) + \".html\", \"r\").read()\n",
    "    road_trip = requests.get(url).text\n",
    "    soup = BeautifulSoup(road_trip)\n",
    "    links = []\n",
    "    for link in soup.findAll('a'):\n",
    "        http_link = link.get('href')\n",
    "        if \"nationalgeographic\" in http_link:\n",
    "            continue\n",
    "        if not http_link.startswith(\"http\"):\n",
    "            continue\n",
    "        if len(http_link) > 5:\n",
    "            links.append(http_link)\n",
    "    \n",
    "    text_maker = html2text.HTML2Text()\n",
    "    text_maker.ignore_links = True\n",
    "    text_maker.ignore_images = True\n",
    "    road_trip_processed = text_maker.handle(road_trip)\n",
    "    \n",
    "    start = \"ShareTweetEmail\"\n",
    "    index = road_trip_processed.find(start)\n",
    "    road_trip_processed = road_trip_processed[index + len(start) + 1:]\n",
    "    \n",
    "    end = road_trip_processed.find(\"ShareTweetEmail\")\n",
    "    road_trip_processed = road_trip_processed[:end]\n",
    "    road_trip_processed = road_trip_processed.replace(\"\\n\\n\", \". \")\n",
    "    for i in [\"\\n\", \"[\", \"]\", \"*\", \"#\", \"_\", \"\\\\'\", '\\\\']:\n",
    "        road_trip_processed = road_trip_processed.replace(i, \" \")\n",
    "    road_trip_processed = road_trip_processed.replace('>', \", \")\n",
    "    for i in range(4): # 4 seems enough\n",
    "        road_trip_processed = road_trip_processed.replace(\"  \", \" \")\n",
    "    road_trip_processed = road_trip_processed.replace(\"..\", \".\")\n",
    "               \n",
    "    return road_trip_processed.strip(), links\n",
    "\n",
    "def get_text_and_places() -> dict:\n",
    "    with open('/home/geoner/data/articles.json') as json_file:\n",
    "        data = json.load(json_file)\n",
    "    for i in data:\n",
    "        text, _ = text_from_html(data[i][\"article_url\"])\n",
    "        data[i][\"text\"] = text      \n",
    "    return data"
   ]
  },
  {
   "cell_type": "code",
   "execution_count": 3,
   "id": "under-thirty",
   "metadata": {},
   "outputs": [
    {
     "name": "stdout",
     "output_type": "stream",
     "text": [
      "CPU times: user 916 ms, sys: 38.7 ms, total: 955 ms\n",
      "Wall time: 15 s\n"
     ]
    }
   ],
   "source": [
    "%time data = get_text_and_places()"
   ]
  },
  {
   "cell_type": "markdown",
   "id": "collaborative-wedding",
   "metadata": {},
   "source": [
    "### Extractor"
   ]
  },
  {
   "cell_type": "code",
   "execution_count": 5,
   "id": "perfect-cartridge",
   "metadata": {},
   "outputs": [],
   "source": [
    "import spacy"
   ]
  },
  {
   "cell_type": "code",
   "execution_count": 9,
   "id": "controversial-wrong",
   "metadata": {},
   "outputs": [],
   "source": [
    "nlp = spacy.load('en_core_web_trf')\n",
    "def get_ne(txt: str) -> list:\n",
    "    ne_types = [\"GPE\", \"FAC\", \"LOC\", \"ORG\"]\n",
    "    ne = nlp(txt).ents\n",
    "    target_ne = [str(ne[i]).strip() for i in range(len(ne)) if ne[i].label_ in ne_types]\n",
    "    for i in range(len(target_ne)):\n",
    "        if target_ne[i].startswith(\"the\"):\n",
    "            target_ne[i] = target_ne[i][4:]\n",
    "        if target_ne[i].endswith(','):\n",
    "            target_ne[i] = target_ne[i][:-1]\n",
    "        target_ne[i] = target_ne[i].strip()\n",
    "    return target_ne"
   ]
  },
  {
   "cell_type": "markdown",
   "id": "banned-chair",
   "metadata": {},
   "source": [
    "### Gazetteer"
   ]
  },
  {
   "cell_type": "code",
   "execution_count": 47,
   "id": "precious-yorkshire",
   "metadata": {},
   "outputs": [],
   "source": [
    "import difflib\n",
    "def str_similarity_percent(a: str, b: str) -> float:\n",
    "    return round(difflib.SequenceMatcher(lambda x: x == \" \", a, b).ratio(), 3)"
   ]
  },
  {
   "cell_type": "code",
   "execution_count": 13,
   "id": "joint-bronze",
   "metadata": {},
   "outputs": [],
   "source": [
    "# 20'000 credits daily limit per application (identified by the parameter 'username'),\n",
    "# the hourly limit is 1000 credits. A credit is a web service request hit for most services.\n",
    "# An exception is thrown when the limit is exceeded. \n",
    "geonames = {\n",
    "    \"exact_match\":\"http://secure.geonames.org/searchJSON?maxRows=30&username=kwh44&name_equals=\",\n",
    "    \"general_match\": \"http://secure.geonames.org/searchJSON?maxRows=30&username=kwh44&name=\"\n",
    "}\n",
    "# https://www.gisgraphy.com/documentation/user-guide.php#fulltextservice\n",
    "gisgraphy = {\n",
    "    \"exact_match\": \"https://services.gisgraphy.com/fulltext/fulltextsearch?&format=json&allwordsrequired=true&q=\",\n",
    "    \"general_match\": \"https://services.gisgraphy.com/fulltext/fulltextsearch?&format=json&q=\"\n",
    "}\n",
    "resource_name = \"\"\n",
    "dbpedia = {\n",
    "    \"resource_name_match\": \"https://lookup.dbpedia.org/api/search?&typeName=place&format=JSON_FULL&maxResults=3&query=\",\n",
    "    \"resource_rdf_get\": f\"https://dbpedia.org/data/{resource_name}.json\"\n",
    "}"
   ]
  },
  {
   "cell_type": "markdown",
   "id": "gross-fiction",
   "metadata": {},
   "source": [
    "### Test page"
   ]
  },
  {
   "cell_type": "code",
   "execution_count": 20,
   "id": "fiscal-renaissance",
   "metadata": {},
   "outputs": [],
   "source": [
    "page_url = data[\"1\"][\"article_url\"]"
   ]
  },
  {
   "cell_type": "code",
   "execution_count": 21,
   "id": "mobile-essex",
   "metadata": {},
   "outputs": [
    {
     "name": "stdout",
     "output_type": "stream",
     "text": [
      "CPU times: user 73.1 ms, sys: 3.65 ms, total: 76.8 ms\n",
      "Wall time: 530 ms\n"
     ]
    }
   ],
   "source": [
    "%time text, links = text_from_html(page_url)"
   ]
  },
  {
   "cell_type": "code",
   "execution_count": 22,
   "id": "regulated-embassy",
   "metadata": {},
   "outputs": [
    {
     "name": "stdout",
     "output_type": "stream",
     "text": [
      "CPU times: user 11.3 s, sys: 6.58 ms, total: 11.3 s\n",
      "Wall time: 2.05 s\n"
     ]
    }
   ],
   "source": [
    "%time places_and_poi = get_ne(text)"
   ]
  },
  {
   "cell_type": "code",
   "execution_count": 23,
   "id": "exempt-saturday",
   "metadata": {},
   "outputs": [],
   "source": [
    "lookup_results = []"
   ]
  },
  {
   "cell_type": "code",
   "execution_count": null,
   "id": "varying-karen",
   "metadata": {},
   "outputs": [],
   "source": []
  },
  {
   "cell_type": "code",
   "execution_count": 48,
   "id": "special-thickness",
   "metadata": {
    "scrolled": false
   },
   "outputs": [
    {
     "name": "stdout",
     "output_type": "stream",
     "text": [
      "Route 66\n",
      "Geonames exact search found match\n",
      "Chicago\n",
      "Geonames exact search found match\n",
      "Santa Monica\n",
      "Geonames exact search found match\n",
      "America\n",
      "Geonames exact search found match\n",
      "Route 66\n",
      "Geonames exact search found match\n",
      "Route 66\n",
      "Geonames exact search found match\n",
      "66\n",
      "Geonames exact search found match\n",
      "Tulsa\n",
      "Geonames exact search found match\n",
      "Route 66\n",
      "Geonames exact search found match\n",
      "Route 66\n",
      "Geonames exact search found match\n",
      "Pixar\n",
      "Gisgraphy exact search found match\n",
      "Cozy Dogs\n",
      "exact place name search failed\n",
      "Geonames and Gisgraphy don't know the place\n",
      "DBpedia search\n",
      "Result name United States  Query is:  Cozy Dogs\n",
      "Result relevance is  0.091\n",
      "Result name India  Query is:  Cozy Dogs\n",
      "Result relevance is  0.0\n",
      "Result name United Kingdom  Query is:  Cozy Dogs\n",
      "Result relevance is  0.087\n"
     ]
    }
   ],
   "source": [
    "for i in places_and_poi:\n",
    "    print(i)\n",
    "\n",
    "    # geonames exact place match search\n",
    "    geoname_exact_lookup = requests.get(geonames[\"exact_match\"] + i).json()\n",
    "    # print(geoname_exact_lookup)\n",
    "    results_num = geoname_exact_lookup[\"totalResultsCount\"]\n",
    "    if results_num >= 1:\n",
    "        lookup_results.append([i, geoname_exact_lookup])\n",
    "        print(\"Geonames exact search found match\")\n",
    "        continue\n",
    "   \n",
    "    # gisgraphy exact place match search\n",
    "    gisgraphy_exact_lookup = requests.get(gisgraphy[\"exact_match\"] + i).json()\n",
    "    # print(gisgraphy_exact_lookup)\n",
    "    results_num = gisgraphy_exact_lookup[\"response\"][\"numFound\"]\n",
    "    if results_num >= 1:\n",
    "        # gisgaphy is not that good with exact match, might find lots of places that constain the query string,\n",
    "        # but those places would add more noise for region localization module\n",
    "        if results_num < 80:\n",
    "            lookup_results.append([i, gisgraphy_exact_lookup])\n",
    "            print(\"Gisgraphy exact search found match\")\n",
    "            continue\n",
    "\n",
    "    print(\"exact place name search failed\")        \n",
    "    # exact place name search failed\n",
    "    \n",
    "    # geonames partial place match search\n",
    "    geoname_general_lookup = requests.get(geonames[\"general_match\"] + i).json()\n",
    "    results_num = geoname_general_lookup[\"totalResultsCount\"]\n",
    "    if results_num >= 1:\n",
    "        lookup_results.append([i, geoname_general_lookup])\n",
    "        print(\"Geonames partial place match found\")\n",
    "        continue\n",
    "    \n",
    "    # gisgraphy partial place match search\n",
    "    gisgraphy_general_lookup = requests.get(gisgraphy[\"general_match\"] + i).json()\n",
    "    results_num = gisgraphy_general_lookup[\"response\"][\"numFound\"]\n",
    "    if results_num >= 1:\n",
    "        if results_num < 80:\n",
    "            lookup_results.append([i, gisgraphy_general_lookup])\n",
    "            print(\"Geonames partial place match found\")\n",
    "            continue\n",
    "    \n",
    "    print(\"Geonames and Gisgraphy don't know the place\")\n",
    "    \n",
    "    # try dbpedia, maybe there is a wikipedia page for the place extracted\n",
    "    print(\"DBpedia search\")\n",
    "    # dbpedia resource search\n",
    "    dbpedia_lookup = requests.get(dbpedia[\"resource_name_match\"] + i).json()\n",
    "    for result in dbpedia_lookup[\"docs\"]:\n",
    "        result_name = result[\"label\"][0][\"value\"]\n",
    "        print(\"Result name\", result_name, \" Query is: \", i)\n",
    "        print(\"Result relevance is \", str_similarity_percent(result_name, i))\n",
    "    break"
   ]
  },
  {
   "cell_type": "code",
   "execution_count": 45,
   "id": "traditional-parish",
   "metadata": {},
   "outputs": [
    {
     "data": {
      "text/plain": [
       "'United States'"
      ]
     },
     "execution_count": 45,
     "metadata": {},
     "output_type": "execute_result"
    }
   ],
   "source": [
    "dbpedia_lookup[\"docs\"][0][\"label\"][0][\"value\"]"
   ]
  },
  {
   "cell_type": "code",
   "execution_count": null,
   "id": "great-silence",
   "metadata": {},
   "outputs": [],
   "source": []
  },
  {
   "cell_type": "code",
   "execution_count": null,
   "id": "forty-potter",
   "metadata": {},
   "outputs": [],
   "source": []
  },
  {
   "cell_type": "code",
   "execution_count": null,
   "id": "nominated-referral",
   "metadata": {},
   "outputs": [],
   "source": []
  },
  {
   "cell_type": "code",
   "execution_count": null,
   "id": "unknown-folder",
   "metadata": {},
   "outputs": [],
   "source": []
  }
 ],
 "metadata": {
  "kernelspec": {
   "display_name": "Python 3",
   "language": "python",
   "name": "python3"
  },
  "language_info": {
   "codemirror_mode": {
    "name": "ipython",
    "version": 3
   },
   "file_extension": ".py",
   "mimetype": "text/x-python",
   "name": "python",
   "nbconvert_exporter": "python",
   "pygments_lexer": "ipython3",
   "version": "3.8.5"
  }
 },
 "nbformat": 4,
 "nbformat_minor": 5
}
